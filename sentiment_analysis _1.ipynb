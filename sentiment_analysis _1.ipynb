{
 "cells": [
  {
   "cell_type": "code",
   "execution_count": 1,
   "metadata": {},
   "outputs": [
    {
     "name": "stderr",
     "output_type": "stream",
     "text": [
      "[nltk_data] Downloading package stopwords to\n",
      "[nltk_data]     C:\\Users\\nagma\\AppData\\Roaming\\nltk_data...\n",
      "[nltk_data]   Package stopwords is already up-to-date!\n",
      "[nltk_data] Downloading package wordnet to\n",
      "[nltk_data]     C:\\Users\\nagma\\AppData\\Roaming\\nltk_data...\n",
      "[nltk_data]   Package wordnet is already up-to-date!\n",
      "[nltk_data] Downloading package punkt to\n",
      "[nltk_data]     C:\\Users\\nagma\\AppData\\Roaming\\nltk_data...\n",
      "[nltk_data]   Package punkt is already up-to-date!\n",
      "[nltk_data] Downloading package averaged_perceptron_tagger to\n",
      "[nltk_data]     C:\\Users\\nagma\\AppData\\Roaming\\nltk_data...\n",
      "[nltk_data]   Package averaged_perceptron_tagger is already up-to-\n",
      "[nltk_data]       date!\n"
     ]
    }
   ],
   "source": [
    "import subprocess\n",
    "import sys\n",
    "\n",
    "# Ensure scipy is up to date\n",
    "subprocess.check_call([sys.executable, \"-m\", \"pip\", \"install\", \"--upgrade\", \"scipy\"])\n",
    "\n",
    "# Ensure gensim and cython are properly installed\n",
    "subprocess.check_call([sys.executable, \"-m\", \"pip\", \"install\", \"cython\"])\n",
    "subprocess.check_call([sys.executable, \"-m\", \"pip\", \"install\", \"--upgrade\", \"gensim\"])\n",
    "\n",
    "# Import necessary libraries\n",
    "import os\n",
    "import random\n",
    "import pandas as pd\n",
    "import re\n",
    "import numpy as np\n",
    "import matplotlib.pyplot as plt\n",
    "import matplotlib as mpl\n",
    "import functools\n",
    "from keras import backend as K\n",
    "import tensorflow as tf\n",
    "from tensorflow.keras.preprocessing.sequence import pad_sequences  # Updated import\n",
    "from tensorflow.keras.preprocessing.text import Tokenizer  # Updated import\n",
    "from keras.models import Sequential\n",
    "from keras.layers import Dense, Embedding, LSTM, Dropout, Conv1D, MaxPooling1D\n",
    "from keras.optimizers import Adam\n",
    "from keras.initializers import Constant\n",
    "\n",
    "import nltk\n",
    "from nltk import pos_tag\n",
    "from nltk.tokenize import word_tokenize\n",
    "from nltk.stem import WordNetLemmatizer\n",
    "from nltk.corpus import stopwords\n",
    "\n",
    "# Download NLTK datasets\n",
    "nltk.download(\"stopwords\")  # for removing stop words\n",
    "nltk.download(\"wordnet\")  # for using wordnet lemmatizer\n",
    "nltk.download('punkt')  # for using nltk.tokenize.word_tokenize\n",
    "nltk.download('averaged_perceptron_tagger')  # for using nltk.pos_tag\n",
    "\n",
    "# Install WordCloud package if not installed\n",
    "try:\n",
    "    from wordcloud import WordCloud\n",
    "except ImportError:\n",
    "    subprocess.check_call([sys.executable, \"-m\", \"pip\", \"install\", \"wordcloud\"])\n",
    "    from wordcloud import WordCloud\n",
    "\n",
    "# Now gensim can be imported without issues\n",
    "import gensim\n",
    "\n",
    "# Load your model if necessary\n",
    "from keras.models import load_model\n"
   ]
  },
  {
   "cell_type": "markdown",
   "metadata": {},
   "source": [
    "# Sentiment Analysis using Custom Embedding and Word2Vec Embedding"
   ]
  },
  {
   "cell_type": "code",
   "execution_count": 3,
   "metadata": {},
   "outputs": [
    {
     "name": "stdout",
     "output_type": "stream",
     "text": [
      "Shape of data:  (568454, 10)\n"
     ]
    },
    {
     "data": {
      "text/html": [
       "<div>\n",
       "<style scoped>\n",
       "    .dataframe tbody tr th:only-of-type {\n",
       "        vertical-align: middle;\n",
       "    }\n",
       "\n",
       "    .dataframe tbody tr th {\n",
       "        vertical-align: top;\n",
       "    }\n",
       "\n",
       "    .dataframe thead th {\n",
       "        text-align: right;\n",
       "    }\n",
       "</style>\n",
       "<table border=\"1\" class=\"dataframe\">\n",
       "  <thead>\n",
       "    <tr style=\"text-align: right;\">\n",
       "      <th></th>\n",
       "      <th>Id</th>\n",
       "      <th>ProductId</th>\n",
       "      <th>UserId</th>\n",
       "      <th>ProfileName</th>\n",
       "      <th>HelpfulnessNumerator</th>\n",
       "      <th>HelpfulnessDenominator</th>\n",
       "      <th>Score</th>\n",
       "      <th>Time</th>\n",
       "      <th>Summary</th>\n",
       "      <th>Text</th>\n",
       "    </tr>\n",
       "  </thead>\n",
       "  <tbody>\n",
       "    <tr>\n",
       "      <th>82573</th>\n",
       "      <td>82574</td>\n",
       "      <td>B000E1FYJW</td>\n",
       "      <td>A2Q3OLMYK98NK5</td>\n",
       "      <td>John C. Lawrence \"Johnny\"</td>\n",
       "      <td>3</td>\n",
       "      <td>3</td>\n",
       "      <td>5</td>\n",
       "      <td>1249171200</td>\n",
       "      <td>Jell-o suprise</td>\n",
       "      <td>I have been looking all over for this Jello.  ...</td>\n",
       "    </tr>\n",
       "    <tr>\n",
       "      <th>331280</th>\n",
       "      <td>331281</td>\n",
       "      <td>B001P74NXM</td>\n",
       "      <td>A1LZJZIHUPLDV4</td>\n",
       "      <td>vegancompassion \"anattanupassana\"</td>\n",
       "      <td>10</td>\n",
       "      <td>17</td>\n",
       "      <td>5</td>\n",
       "      <td>1237075200</td>\n",
       "      <td>Vegan Organic Raw Choice</td>\n",
       "      <td>Vegan. Organic. Raw. Economical 'refill' or fa...</td>\n",
       "    </tr>\n",
       "    <tr>\n",
       "      <th>61767</th>\n",
       "      <td>61768</td>\n",
       "      <td>B003SLTETG</td>\n",
       "      <td>A2I41NCZG9OR58</td>\n",
       "      <td>Clay</td>\n",
       "      <td>41</td>\n",
       "      <td>41</td>\n",
       "      <td>1</td>\n",
       "      <td>1325030400</td>\n",
       "      <td>Having some issues with this door</td>\n",
       "      <td>I'm happy to hear that others are having good ...</td>\n",
       "    </tr>\n",
       "    <tr>\n",
       "      <th>324599</th>\n",
       "      <td>324600</td>\n",
       "      <td>B000GB0UGC</td>\n",
       "      <td>A311GV8XGDIEOY</td>\n",
       "      <td>Erin Biegel \"Gabriels Mother\"</td>\n",
       "      <td>6</td>\n",
       "      <td>29</td>\n",
       "      <td>1</td>\n",
       "      <td>1224288000</td>\n",
       "      <td>Ordered the item on the 7th.. wasnt shipped un...</td>\n",
       "      <td>Ordered the item on the 7th.. wasnt shipped un...</td>\n",
       "    </tr>\n",
       "    <tr>\n",
       "      <th>505901</th>\n",
       "      <td>505902</td>\n",
       "      <td>B001ELL512</td>\n",
       "      <td>A356ALXAC5COJ2</td>\n",
       "      <td>anknight</td>\n",
       "      <td>0</td>\n",
       "      <td>0</td>\n",
       "      <td>4</td>\n",
       "      <td>1346716800</td>\n",
       "      <td>Tasty coffee</td>\n",
       "      <td>I love Italian roast coffee.  While this is no...</td>\n",
       "    </tr>\n",
       "  </tbody>\n",
       "</table>\n",
       "</div>"
      ],
      "text/plain": [
       "            Id   ProductId          UserId                        ProfileName  \\\n",
       "82573    82574  B000E1FYJW  A2Q3OLMYK98NK5          John C. Lawrence \"Johnny\"   \n",
       "331280  331281  B001P74NXM  A1LZJZIHUPLDV4  vegancompassion \"anattanupassana\"   \n",
       "61767    61768  B003SLTETG  A2I41NCZG9OR58                               Clay   \n",
       "324599  324600  B000GB0UGC  A311GV8XGDIEOY      Erin Biegel \"Gabriels Mother\"   \n",
       "505901  505902  B001ELL512  A356ALXAC5COJ2                           anknight   \n",
       "\n",
       "        HelpfulnessNumerator  HelpfulnessDenominator  Score        Time  \\\n",
       "82573                      3                       3      5  1249171200   \n",
       "331280                    10                      17      5  1237075200   \n",
       "61767                     41                      41      1  1325030400   \n",
       "324599                     6                      29      1  1224288000   \n",
       "505901                     0                       0      4  1346716800   \n",
       "\n",
       "                                                  Summary  \\\n",
       "82573                                      Jell-o suprise   \n",
       "331280                           Vegan Organic Raw Choice   \n",
       "61767                   Having some issues with this door   \n",
       "324599  Ordered the item on the 7th.. wasnt shipped un...   \n",
       "505901                                       Tasty coffee   \n",
       "\n",
       "                                                     Text  \n",
       "82573   I have been looking all over for this Jello.  ...  \n",
       "331280  Vegan. Organic. Raw. Economical 'refill' or fa...  \n",
       "61767   I'm happy to hear that others are having good ...  \n",
       "324599  Ordered the item on the 7th.. wasnt shipped un...  \n",
       "505901  I love Italian roast coffee.  While this is no...  "
      ]
     },
     "execution_count": 3,
     "metadata": {},
     "output_type": "execute_result"
    }
   ],
   "source": [
    "path = \"C:\\\\Users\\\\nagma\\\\Downloads\\\\Reviews.csv\"\n",
    "\n",
    "data = pd.read_csv(path, encoding=\"utf-8\")\n",
    "data = data.reindex(np.random.permutation(data.index))\n",
    "\n",
    "print(\"Shape of data: \", data.shape)\n",
    "data.head()"
   ]
  },
  {
   "cell_type": "code",
   "execution_count": 5,
   "metadata": {},
   "outputs": [
    {
     "data": {
      "text/html": [
       "<div>\n",
       "<style scoped>\n",
       "    .dataframe tbody tr th:only-of-type {\n",
       "        vertical-align: middle;\n",
       "    }\n",
       "\n",
       "    .dataframe tbody tr th {\n",
       "        vertical-align: top;\n",
       "    }\n",
       "\n",
       "    .dataframe thead th {\n",
       "        text-align: right;\n",
       "    }\n",
       "</style>\n",
       "<table border=\"1\" class=\"dataframe\">\n",
       "  <thead>\n",
       "    <tr style=\"text-align: right;\">\n",
       "      <th></th>\n",
       "      <th>Score</th>\n",
       "      <th>Summary</th>\n",
       "      <th>Text</th>\n",
       "    </tr>\n",
       "  </thead>\n",
       "  <tbody>\n",
       "    <tr>\n",
       "      <th>100</th>\n",
       "      <td>5</td>\n",
       "      <td>Taste wise it is a 6 star item</td>\n",
       "      <td>The mouth says, \"How do I love thee, let me co...</td>\n",
       "    </tr>\n",
       "    <tr>\n",
       "      <th>200</th>\n",
       "      <td>2</td>\n",
       "      <td>Altoids Smalls</td>\n",
       "      <td>Even with small containers, they don't fill th...</td>\n",
       "    </tr>\n",
       "    <tr>\n",
       "      <th>334</th>\n",
       "      <td>1</td>\n",
       "      <td>Does not taste very good</td>\n",
       "      <td>Taste like it is stale.  Will not order this a...</td>\n",
       "    </tr>\n",
       "    <tr>\n",
       "      <th>424367</th>\n",
       "      <td>4</td>\n",
       "      <td>Easy to prepare, excellent taste but...a bit t...</td>\n",
       "      <td>I really like Indian food for some reason, esp...</td>\n",
       "    </tr>\n",
       "    <tr>\n",
       "      <th>1446</th>\n",
       "      <td>3</td>\n",
       "      <td>THICK SOUP</td>\n",
       "      <td>Not bad, but like others say a bit too salty. ...</td>\n",
       "    </tr>\n",
       "  </tbody>\n",
       "</table>\n",
       "</div>"
      ],
      "text/plain": [
       "        Score                                            Summary  \\\n",
       "100         5                     Taste wise it is a 6 star item   \n",
       "200         2                                     Altoids Smalls   \n",
       "334         1                           Does not taste very good   \n",
       "424367      4  Easy to prepare, excellent taste but...a bit t...   \n",
       "1446        3                                         THICK SOUP   \n",
       "\n",
       "                                                     Text  \n",
       "100     The mouth says, \"How do I love thee, let me co...  \n",
       "200     Even with small containers, they don't fill th...  \n",
       "334     Taste like it is stale.  Will not order this a...  \n",
       "424367  I really like Indian food for some reason, esp...  \n",
       "1446    Not bad, but like others say a bit too salty. ...  "
      ]
     },
     "execution_count": 5,
     "metadata": {},
     "output_type": "execute_result"
    }
   ],
   "source": [
    "data.loc[[100, 200, 334, 424367, 1446], [\"Score\", \"Summary\", \"Text\"]]"
   ]
  },
  {
   "cell_type": "code",
   "execution_count": 7,
   "metadata": {},
   "outputs": [],
   "source": [
    "reviews_text = data[\"Text\"].values\n",
    "reviews_title = data[\"Summary\"].values\n",
    "reviews_rating = data[\"Score\"].values"
   ]
  },
  {
   "cell_type": "code",
   "execution_count": 9,
   "metadata": {},
   "outputs": [],
   "source": [
    "# nltk libraries\n",
    "\n",
    "stop_words = set(stopwords.words('english'))\n",
    "\n",
    "lemmatiser = WordNetLemmatizer()"
   ]
  },
  {
   "cell_type": "code",
   "execution_count": 11,
   "metadata": {},
   "outputs": [],
   "source": [
    "# returns the Part-Of-Speech(pos) tag which is required as an argument for\n",
    "# lemmatizer for determiing the context of the word for lemmatization\n",
    "\n",
    "def get_wordnet_pos(pos_tag):\n",
    "\n",
    "    if pos_tag.startswith('J'):  \n",
    "        return 'a' # adjective\n",
    "    elif pos_tag.startswith('V'): \n",
    "        return 'v' # verb\n",
    "    elif pos_tag.startswith('R'):\n",
    "        return 'r' # adverb\n",
    "    else:           \n",
    "        return 'n' # fallback to noun"
   ]
  },
  {
   "cell_type": "code",
   "execution_count": 13,
   "metadata": {},
   "outputs": [
    {
     "name": "stdout",
     "output_type": "stream",
     "text": [
      "Original   Lemmatized \n",
      "move         move\n",
      "moves         move\n",
      "moved         move\n",
      "moving         move\n",
      "study         study\n",
      "studies         study\n",
      "studying         study\n",
      "studied         studied\n",
      "workers         worker\n",
      "worker         worker\n",
      "working         work\n",
      "worked         work\n",
      "go         go\n",
      "went         go\n",
      "gone         go\n"
     ]
    }
   ],
   "source": [
    "# example of lemmatization\n",
    "\n",
    "example = \"move moves moved moving study studies studying studied workers worker working worked go went gone\"\n",
    "\n",
    "tokens = word_tokenize(example) # Generate list of tokens\n",
    "tokens_pos = pos_tag(tokens) \n",
    "\n",
    "print(\"Original   Lemmatized \")\n",
    "for tok, tag in tokens_pos:\n",
    "    pos = get_wordnet_pos(tag)\n",
    "    print(tok, \"       \",lemmatiser.lemmatize(tok, pos=pos))"
   ]
  },
  {
   "cell_type": "code",
   "execution_count": 8,
   "metadata": {},
   "outputs": [],
   "source": [
    "# performs all sorts of preprocessing on text\n",
    "\n",
    "def preprocess_text(text):\n",
    "    \n",
    "    # lowercase the entire text\n",
    "    text = text.lower()\n",
    "    \n",
    "    # remove all html tags from dataset\n",
    "    text = re.sub(r'<.*?>',\"\",text)\n",
    "    \n",
    "    # Replace special characters and punctuation by a \n",
    "    # blank ( except for full stop(.))\n",
    "    text = re.sub('[^a-z0-9 \\.]', '', text)\n",
    "    \n",
    "    # split the text into words\n",
    "    words = word_tokenize(text) \n",
    "    \n",
    "    # remove stop words like to, an, the, of, over, his, her, there, their ...\n",
    "    words = [w for w in words if w ==\"not\" or not w in stop_words ]\n",
    "    \n",
    "    # get pos tagging for words, required by lemmatizer\n",
    "    words_pos = pos_tag(words) \n",
    "    \n",
    "    lemmatized_words = []\n",
    "    \n",
    "    for word, tag in words_pos:\n",
    "        pos = get_wordnet_pos(tag)\n",
    "        lemmatized_word = lemmatiser.lemmatize(word, pos=pos)\n",
    "        lemmatized_words.append(lemmatized_word)\n",
    "    \n",
    "    text = \" \".join(lemmatized_words)\n",
    "    \n",
    "    \n",
    "    return text"
   ]
  },
  {
   "cell_type": "code",
   "execution_count": 24,
   "metadata": {},
   "outputs": [
    {
     "name": "stdout",
     "output_type": "stream",
     "text": [
      "568454\n"
     ]
    }
   ],
   "source": [
    "DATA_SIZE = reviews_text.size\n",
    "\n",
    "reviews = []\n",
    "labels = np.zeros(DATA_SIZE)\n",
    "\n",
    "print(DATA_SIZE)"
   ]
  },
  {
   "cell_type": "code",
   "execution_count": 25,
   "metadata": {},
   "outputs": [],
   "source": [
    "# data preprocessing step\n",
    "# will take several minutes!(almost an hour)\n",
    "\n",
    "for i in range(DATA_SIZE):\n",
    "    \n",
    "    text = str(reviews_text[i])\n",
    "    title = str(reviews_title[i])\n",
    "    rating = reviews_rating[i]\n",
    "    \n",
    "    review = title + \" \" + text\n",
    "    review = preprocess_text(review)\n",
    "    reviews.append(review)\n",
    "\n",
    "    if(rating > 3.0):\n",
    "        labels[i] = 1 # Positive Review (1)"
   ]
  },
  {
   "cell_type": "code",
   "execution_count": 31,
   "metadata": {},
   "outputs": [
    {
     "data": {
      "image/png": "[encoded data removed]",
      "text/plain": [
       "<Figure size 432x288 with 1 Axes>"
      ]
     },
     "metadata": {
      "needs_background": "light"
     },
     "output_type": "display_data"
    }
   ],
   "source": [
    "# plot showing lengthwise distribution of reviews\n",
    "\n",
    "bins = [20*i for i in range(1, 30)]\n",
    "\n",
    "plt.hist([len(s.split()) for s in reviews], bins=bins)\n",
    "\n",
    "plt.xlabel('No of words in a review')\n",
    "plt.ylabel('Number of reviews')\n",
    "plt.title('Reviews Length Distribution')    \n",
    "\n",
    "plt.axis([0, 300, 0, 230000])\n",
    "plt.grid(True)\n",
    "\n",
    "plt.show()"
   ]
  },
  {
   "cell_type": "markdown",
   "metadata": {},
   "source": [
    "The majority of reviews are covered if length < 60 words"
   ]
  },
  {
   "cell_type": "code",
   "execution_count": 48,
   "metadata": {},
   "outputs": [],
   "source": [
    "review_texts = []\n",
    "review_labels = []\n",
    "\n",
    "THRESHOLD_WORDS = 60"
   ]
  },
  {
   "cell_type": "code",
   "execution_count": 49,
   "metadata": {},
   "outputs": [],
   "source": [
    "# considering only those reviews whose length <= (THRESHOLD_WORDS = 60)\n",
    "\n",
    "for idx, review in enumerate(reviews):\n",
    "    \n",
    "    if(len(review.split()) <= THRESHOLD_WORDS):\n",
    "        review_texts.append(review)\n",
    "        review_labels.append(labels[idx])\n",
    "        "
   ]
  },
  {
   "cell_type": "code",
   "execution_count": 50,
   "metadata": {},
   "outputs": [],
   "source": [
    "review_labels = np.array(review_labels)"
   ]
  },
  {
   "cell_type": "code",
   "execution_count": 58,
   "metadata": {},
   "outputs": [],
   "source": [
    "NEW_DATA_SIZE = review_labels.shape[0]"
   ]
  },
  {
   "cell_type": "code",
   "execution_count": 64,
   "metadata": {},
   "outputs": [],
   "source": [
    "# TRAIN - VALIDATION - TEST SPLIT\n",
    "\n",
    "TRAIN_RATIO = 0.6\n",
    "VAL_RATIO = 0.2\n",
    "TRAIN_INDEX = int(TRAIN_RATIO*NEW_DATA_SIZE)\n",
    "VAL_INDEX = TRAIN_INDEX + int(VAL_RATIO*NEW_DATA_SIZE)\n",
    "\n",
    "train_texts = review_texts[:TRAIN_INDEX]\n",
    "y_train = review_labels[:TRAIN_INDEX]\n",
    "\n",
    "val_texts = review_texts[TRAIN_INDEX:VAL_INDEX]\n",
    "y_val = review_labels[TRAIN_INDEX:VAL_INDEX]\n",
    "\n",
    "test_texts = review_texts[VAL_INDEX:]\n",
    "y_test = review_labels[VAL_INDEX:]\n"
   ]
  },
  {
   "cell_type": "code",
   "execution_count": 65,
   "metadata": {},
   "outputs": [
    {
     "name": "stdout",
     "output_type": "stream",
     "text": [
      "good salty taste always favorite saltine . name implies good salty taste . amount salt seem gradually reduce level use many year ago . would prefer bit salt not find well alternative .\n",
      "Label : 0.0\n"
     ]
    }
   ],
   "source": [
    "# Random review\n",
    "\n",
    "RAND_IDX = 78642\n",
    "print(train_texts[RAND_IDX])\n",
    "print(\"Label :\", y_train[RAND_IDX])"
   ]
  },
  {
   "cell_type": "code",
   "execution_count": 66,
   "metadata": {},
   "outputs": [],
   "source": [
    "# calculates median words per sample\n",
    "\n",
    "def get_num_words_per_sample(sample_texts):\n",
    "    \n",
    "    num_words = [len(s.split()) for s in sample_texts]\n",
    "    return np.median(num_words)"
   ]
  },
  {
   "cell_type": "code",
   "execution_count": 68,
   "metadata": {},
   "outputs": [
    {
     "name": "stdout",
     "output_type": "stream",
     "text": [
      "Total training examples : 259666\n",
      "Total validation examples : 86555\n",
      "Total test dataset  86557\n",
      "\n",
      "Total classes : 2\n",
      "\n",
      "Median words per sample in training data :  29.0\n",
      "Median words per sample in validation data :  32.0\n",
      "Median words per sample in test data :  28.0\n"
     ]
    }
   ],
   "source": [
    "# Facts about the dataset\n",
    "\n",
    "print(\"Total training examples :\", len(train_texts))\n",
    "print(\"Total validation examples :\", len(val_texts))\n",
    "print(\"Total test dataset \", len(test_texts))\n",
    "print(\"\\nTotal classes :\", 2)\n",
    "\n",
    "print(\"\\nMedian words per sample in training data : \", get_num_words_per_sample(train_texts))\n",
    "print(\"Median words per sample in validation data : \", get_num_words_per_sample(val_texts[2:9]))\n",
    "print(\"Median words per sample in test data : \", get_num_words_per_sample(test_texts)) "
   ]
  },
  {
   "cell_type": "code",
   "execution_count": 76,
   "metadata": {},
   "outputs": [
    {
     "data": {
      "image/png": "[encoded data removed]",
      "text/plain": [
       "<Figure size 720x720 with 1 Axes>"
      ]
     },
     "metadata": {
      "needs_background": "light"
     },
     "output_type": "display_data"
    }
   ],
   "source": [
    "# plot showing lengthwise distribution of reviews labels\n",
    "\n",
    "y = np.zeros((y_train.shape[0], 2))\n",
    "\n",
    "for idx, review in enumerate(train_texts):\n",
    "    l = len(review.split())\n",
    "  \n",
    "    if y_train[idx] == 1:\n",
    "        y[idx][1] = l\n",
    "    else: \n",
    "        y[idx][0] = l\n",
    "        \n",
    "mpl.rcParams['figure.figsize'] = (10,10)\n",
    "        \n",
    "plotlabels = [ 'Negative', 'Positive']\n",
    "color = ['red', 'green']    \n",
    "\n",
    "bins = [5*i for i in range(1,13)]\n",
    "\n",
    "plt.hist(y,bins = bins,label = plotlabels,color = color)\n",
    "plt.axis([0, 70, 0, 40000])\n",
    "\n",
    "plt.title('Reviews Labels Distribution')   \n",
    "plt.xlabel('Length of reviews')\n",
    "plt.ylabel('Number of reviews') \n",
    "\n",
    "plt.legend()\n",
    "plt.grid(True)\n",
    "plt.show()"
   ]
  },
  {
   "cell_type": "code",
   "execution_count": 77,
   "metadata": {},
   "outputs": [
    {
     "data": {
      "text/plain": [
       "<BarContainer object of 50 artists>"
      ]
     },
     "execution_count": 77,
     "metadata": {},
     "output_type": "execute_result"
    },
    {
     "data": {
      "image/png": "[encoded data removed]",
      "text/plain": [
       "<Figure size 1440x720 with 1 Axes>"
      ]
     },
     "metadata": {
      "needs_background": "light"
     },
     "output_type": "display_data"
    }
   ],
   "source": [
    "# tokenizing the reviews words\n",
    "\n",
    "tokenizer = Tokenizer()\n",
    "tokenizer.fit_on_texts(train_texts)\n",
    "\n",
    "MOST_K_FREQUENT = 100\n",
    "TOP_K_FREQUENT = 50\n",
    "\n",
    "def get_key(word_freq_pair):\n",
    "    word, freq = word_freq_pair\n",
    "    return freq\n",
    "  \n",
    "# MOST_K_FREQUENT WORDS    \n",
    "frequent_words = sorted(list(tokenizer.word_counts.items()), key = get_key, reverse = True)[:MOST_K_FREQUENT]\n",
    "\n",
    "x = [i for i in range(MOST_K_FREQUENT)]\n",
    "x_words = []\n",
    "y_word_freq = []\n",
    "\n",
    "for word, count in frequent_words:\n",
    "    x_words.append(word)\n",
    "    y_word_freq.append(count)\n",
    "\n",
    "# plot showing most occuring words in the dataset    \n",
    "    \n",
    "mpl.rcParams['figure.figsize'] = (20,10)\n",
    "\n",
    "plt.xticks(x, x_words)\n",
    "plt.xticks(rotation=60)\n",
    "\n",
    "plt.title(\"Most Frequent Words\")\n",
    "\n",
    "plt.bar(x[:TOP_K_FREQUENT], y_word_freq[:TOP_K_FREQUENT])"
   ]
  },
  {
   "cell_type": "code",
   "execution_count": 78,
   "metadata": {},
   "outputs": [
    {
     "data": {
      "image/png": "[encoded data removed]",
      "text/plain": [
       "<Figure size 720x720 with 1 Axes>"
      ]
     },
     "metadata": {
      "needs_background": "light"
     },
     "output_type": "display_data"
    }
   ],
   "source": [
    "# word cloud showing most occuring words in the dataset\n",
    "\n",
    "freq_dist = nltk.FreqDist(x_words)\n",
    "\n",
    "wordcloud = WordCloud().generate_from_frequencies(freq_dist)\n",
    "\n",
    "mpl.rcParams['figure.figsize'] = (10,10)\n",
    "\n",
    "plt.imshow(wordcloud)\n",
    "\n",
    "plt.axis(\"off\")\n",
    "plt.show()"
   ]
  },
  {
   "cell_type": "code",
   "execution_count": 79,
   "metadata": {},
   "outputs": [],
   "source": [
    "# Vectorization parameters\n",
    "# Limit on the number of features. We use the top 20K features.\n",
    "TOP_K = 20000\n",
    "\n",
    "# Limit on the length of text sequences. Sequences longer than this\n",
    "# will be truncated.\n",
    "MAX_SEQUENCE_LENGTH = THRESHOLD_WORDS\n",
    "\n",
    "# Create vocabulary with training texts.\n",
    "tokenizer = Tokenizer(num_words=TOP_K)\n",
    "tokenizer.fit_on_texts(train_texts)\n",
    "\n",
    "# Vectorize training and validation texts.\n",
    "x_train = tokenizer.texts_to_sequences(train_texts)\n",
    "x_val = tokenizer.texts_to_sequences(val_texts)\n",
    "x_test = tokenizer.texts_to_sequences(test_texts)\n",
    "\n",
    "# Fix sequence length to MAX_SEQUENCE_LENGTH. Sequences shorter than the length are\n",
    "# padded and sequences longer are truncated\n",
    "x_train = pad_sequences(x_train, maxlen=MAX_SEQUENCE_LENGTH, padding='post')\n",
    "x_val = pad_sequences(x_val, maxlen=MAX_SEQUENCE_LENGTH, padding='post')\n",
    "x_test = pad_sequences(x_test, maxlen=MAX_SEQUENCE_LENGTH, padding='post')\n",
    "    "
   ]
  },
  {
   "cell_type": "markdown",
   "metadata": {},
   "source": [
    "# Custom Embedding Model"
   ]
  },
  {
   "cell_type": "code",
   "execution_count": 158,
   "metadata": {},
   "outputs": [
    {
     "name": "stdout",
     "output_type": "stream",
     "text": [
      "_________________________________________________________________\n",
      "Layer (type)                 Output Shape              Param #   \n",
      "=================================================================\n",
      "embedding_4 (Embedding)      (None, 60, 100)           9434700   \n",
      "_________________________________________________________________\n",
      "dropout_7 (Dropout)          (None, 60, 100)           0         \n",
      "_________________________________________________________________\n",
      "conv1d_4 (Conv1D)            (None, 56, 64)            32064     \n",
      "_________________________________________________________________\n",
      "max_pooling1d_4 (MaxPooling1 (None, 14, 64)            0         \n",
      "_________________________________________________________________\n",
      "lstm_4 (LSTM)                (None, 100)               66000     \n",
      "_________________________________________________________________\n",
      "dropout_8 (Dropout)          (None, 100)               0         \n",
      "_________________________________________________________________\n",
      "dense_4 (Dense)              (None, 1)                 101       \n",
      "=================================================================\n",
      "Total params: 9,532,865\n",
      "Trainable params: 9,532,865\n",
      "Non-trainable params: 0\n",
      "_________________________________________________________________\n"
     ]
    }
   ],
   "source": [
    "\n",
    "# dimension of each word embedding\n",
    "EMBEDDING_DIM = 100\n",
    "\n",
    "\n",
    "model_custom_embedding = Sequential()\n",
    "\n",
    "model_custom_embedding.add(Embedding(len(tokenizer.word_index)+1, EMBEDDING_DIM, input_length=MAX_SEQUENCE_LENGTH))\n",
    "model_custom_embedding.add(Dropout(0.3))\n",
    "\n",
    "model_custom_embedding.add(Conv1D(64, 5, activation='relu'))\n",
    "model_custom_embedding.add(MaxPooling1D(pool_size=4))\n",
    "\n",
    "model_custom_embedding.add(LSTM(100))\n",
    "model_custom_embedding.add(Dropout(0.4))\n",
    "\n",
    "model_custom_embedding.add(Dense(1, activation='sigmoid'))\n",
    "\n",
    "optimizer = Adam(lr=1e-3, beta_1=0.9, beta_2=0.999, epsilon=1e-08, decay=0.0, amsgrad=False)\n",
    "\n",
    "model_custom_embedding.compile(loss='binary_crossentropy', optimizer=optimizer, metrics=['accuracy'])\n",
    "model_custom_embedding.summary()"
   ]
  },
  {
   "cell_type": "code",
   "execution_count": 159,
   "metadata": {},
   "outputs": [
    {
     "name": "stdout",
     "output_type": "stream",
     "text": [
      "Train on 259666 samples, validate on 86555 samples\n",
      "Epoch 1/10\n",
      "259666/259666 [==============================] - 2405s 9ms/step - loss: 0.0582 - acc: 0.9798 - val_loss: 0.1730 - val_acc: 0.9479\n",
      "Epoch 2/10\n",
      "259666/259666 [==============================] - 2372s 9ms/step - loss: 0.0484 - acc: 0.9831 - val_loss: 0.2052 - val_acc: 0.9482\n",
      "Epoch 3/10\n",
      "259666/259666 [==============================] - 2368s 9ms/step - loss: 0.0432 - acc: 0.9852 - val_loss: 0.1909 - val_acc: 0.9497\n",
      "Epoch 4/10\n",
      "259666/259666 [==============================] - 2364s 9ms/step - loss: 0.0399 - acc: 0.9862 - val_loss: 0.2072 - val_acc: 0.9473\n",
      "Epoch 5/10\n",
      "259666/259666 [==============================] - 2370s 9ms/step - loss: 0.0356 - acc: 0.9876 - val_loss: 0.2341 - val_acc: 0.9485\n",
      "Epoch 6/10\n",
      "259666/259666 [==============================] - 2379s 9ms/step - loss: 0.0326 - acc: 0.9890 - val_loss: 0.2187 - val_acc: 0.9477\n",
      "Epoch 7/10\n",
      "259666/259666 [==============================] - 2368s 9ms/step - loss: 0.0304 - acc: 0.9893 - val_loss: 0.2234 - val_acc: 0.9472\n",
      "Epoch 8/10\n",
      "259666/259666 [==============================] - 2371s 9ms/step - loss: 0.0279 - acc: 0.9902 - val_loss: 0.2252 - val_acc: 0.9486\n",
      "Epoch 9/10\n",
      "259666/259666 [==============================] - 2377s 9ms/step - loss: 0.0263 - acc: 0.9910 - val_loss: 0.2175 - val_acc: 0.9492\n",
      "Epoch 10/10\n",
      "259666/259666 [==============================] - 2371s 9ms/step - loss: 0.0250 - acc: 0.9914 - val_loss: 0.2368 - val_acc: 0.9486\n"
     ]
    }
   ],
   "source": [
    "\n",
    "# training the custom embedding model\n",
    "model_custom_embedding_history = model_custom_embedding.fit(x_train, y_train, batch_size=32, epochs=10, validation_data=(x_val, y_val))\n"
   ]
  },
  {
   "cell_type": "markdown",
   "metadata": {},
   "source": [
    "### Training Accuracy - 99.14%\n",
    "### Validation Accuracy - 94.86%"
   ]
  },
  {
   "cell_type": "code",
   "execution_count": 160,
   "metadata": {},
   "outputs": [],
   "source": [
    "# model history parameters\n",
    "\n",
    "history = model_custom_embedding_history.history\n",
    "\n",
    "train_accuracy = history['acc']\n",
    "train_loss = history['loss']\n",
    "\n",
    "val_accuracy = history['val_acc']\n",
    "val_loss = history['val_loss']\n",
    "\n",
    "epochs = range(1, len(train_accuracy) + 1)"
   ]
  },
  {
   "cell_type": "code",
   "execution_count": 161,
   "metadata": {},
   "outputs": [
    {
     "data": {
      "image/png": "[encoded data removed]",
      "text/plain": [
       "<Figure size 720x360 with 1 Axes>"
      ]
     },
     "metadata": {
      "needs_background": "light"
     },
     "output_type": "display_data"
    }
   ],
   "source": [
    "# plot showing training and validation losses\n",
    "\n",
    "mpl.rcParams['figure.figsize'] = (10, 5)\n",
    "\n",
    "plt.plot(epochs, train_loss, 'g', label='Training Loss')\n",
    "plt.plot(epochs, val_loss, 'b', label='Validation Loss')\n",
    "\n",
    "plt.title('Training and Validation Loss')\n",
    "plt.xlabel('Epochs')\n",
    "plt.ylabel('Loss')\n",
    "\n",
    "plt.legend()\n",
    "plt.show()"
   ]
  },
  {
   "cell_type": "code",
   "execution_count": 162,
   "metadata": {},
   "outputs": [
    {
     "data": {
      "image/png": "[encoded data removed]",
      "text/plain": [
       "<Figure size 720x360 with 1 Axes>"
      ]
     },
     "metadata": {
      "needs_background": "light"
     },
     "output_type": "display_data"
    }
   ],
   "source": [
    "# plot showing training and validation accuracy\n",
    "\n",
    "plt.plot(epochs, train_accuracy, 'g', label='Training Accuracy')\n",
    "plt.plot(epochs, val_accuracy, 'b', label='Validation Accuracy')\n",
    "\n",
    "plt.title('Training and Validation Accuracy')\n",
    "plt.xlabel('Epochs')\n",
    "plt.ylabel('Accuracy')\n",
    "\n",
    "plt.legend()\n",
    "plt.show()"
   ]
  },
  {
   "cell_type": "code",
   "execution_count": 163,
   "metadata": {},
   "outputs": [
    {
     "name": "stdout",
     "output_type": "stream",
     "text": [
      "86557/86557 [==============================] - 36s 410us/step\n"
     ]
    },
    {
     "data": {
      "text/plain": [
       "[0.23004449669752813, 0.949224210635766]"
      ]
     },
     "execution_count": 163,
     "metadata": {},
     "output_type": "execute_result"
    }
   ],
   "source": [
    "# evaluating the model on test dataset\n",
    "\n",
    "model_custom_embedding.evaluate(x_test, y_test)"
   ]
  },
  {
   "cell_type": "markdown",
   "metadata": {},
   "source": [
    "## Test Accuracy - 94.92%"
   ]
  },
  {
   "cell_type": "code",
   "execution_count": 166,
   "metadata": {},
   "outputs": [
    {
     "name": "stdout",
     "output_type": "stream",
     "text": [
      "1. Positive with 99.64% surity\n",
      "2. Negative with 99.84% surity\n",
      "3. Negative with 96.88% surity\n",
      "4. Positive with 66.48% surity\n",
      "5. Negative with 99.47% surity\n",
      "6. Positive with 88.35% surity\n",
      "7. Positive with 99.54% surity\n",
      "8. Positive with 94.34% surity\n",
      "9. Positive with 96.55% surity\n"
     ]
    }
   ],
   "source": [
    "# Custom test samples\n",
    "\n",
    "samples = [\n",
    "           \"The taste of the biscuits was quite spectacular. It seemed as if it was taken straight from heaven\",\n",
    "           \"Peanuts were too salty according to my taste\",\n",
    "           \"Food was unhygienic. I fell ill after eating\",\n",
    "           \"I am sure I liked what i had\",\n",
    "            \"I am not sure I liked what i had\",\n",
    "            \"If you are looking for a secret ingredient, go for it\",\n",
    "            \"When i first bought this, i was confused about its quality and taste. But after eating this, my children fell in love with me. Thanks!!\",\n",
    "            \"If you are looking for a quality food, dr. oetkers product always seem to be my first choice\",\n",
    "            \"I'm not really a tea drinker but my husband is and he loves this tea. So on his behalf I'm recommending it. Just go on with my hubby's recommendation.\"\n",
    "          ]\n",
    "\n",
    "processed_samples = []\n",
    "for sample in samples:\n",
    "    processed_samples.append(preprocess_text(sample))\n",
    "\n",
    "vectorized_samples = tokenizer.texts_to_sequences(processed_samples)\n",
    "vectorized_samples = pad_sequences(vectorized_samples, maxlen=MAX_SEQUENCE_LENGTH, padding='post')\n",
    "\n",
    "predictions = model_custom_embedding.predict(vectorized_samples)\n",
    "\n",
    "THRESHOLD_PREDICTION = 0.6\n",
    "\n",
    "for idx, pred in enumerate(predictions):\n",
    "    if(pred > THRESHOLD_PREDICTION):\n",
    "        print(\"{}. Positive with {:.2f}% surity\".format(idx+1, pred[0]*100))\n",
    "    else:\n",
    "        print(\"{}. Negative with {:.2f}% surity\".format(idx+1, 100-pred[0]*100))\n"
   ]
  },
  {
   "cell_type": "code",
   "execution_count": 171,
   "metadata": {},
   "outputs": [],
   "source": [
    "# saving the custom embedding model\n",
    "\n",
    "model_custom_embedding.save(\"custom_embedding_model.h5\")\n"
   ]
  },
  {
   "cell_type": "markdown",
   "metadata": {},
   "source": [
    "## Word2Vec Model"
   ]
  },
  {
   "cell_type": "code",
   "execution_count": 180,
   "metadata": {},
   "outputs": [],
   "source": [
    "# tokenizing the dataset for feeding to word2vec model\n",
    "\n",
    "sentences =  [word_tokenize(review) for review in reviews]\n",
    "    "
   ]
  },
  {
   "cell_type": "code",
   "execution_count": 181,
   "metadata": {},
   "outputs": [
    {
     "data": {
      "text/plain": [
       "['worst',\n",
       " 'taste',\n",
       " 'miso',\n",
       " 'soup',\n",
       " 'ever',\n",
       " 'let',\n",
       " 'start',\n",
       " 'say',\n",
       " 'love',\n",
       " 'miso',\n",
       " 'soup',\n",
       " 'could',\n",
       " 'sometimes',\n",
       " 'eat',\n",
       " 'every',\n",
       " 'day',\n",
       " '.',\n",
       " 'not',\n",
       " 'miso',\n",
       " 'soup',\n",
       " 'snob',\n",
       " 'either',\n",
       " 'enjoy',\n",
       " 'various',\n",
       " 'brand',\n",
       " 'recipe',\n",
       " '.',\n",
       " 'however',\n",
       " 'find',\n",
       " 'particular',\n",
       " 'brand',\n",
       " 'dud',\n",
       " 'lack',\n",
       " 'flavor',\n",
       " 'whatsoever',\n",
       " 'pack',\n",
       " 'way',\n",
       " 'much',\n",
       " 'onion',\n",
       " '.',\n",
       " 'may',\n",
       " 'fine',\n",
       " 'quality',\n",
       " 'ingredient',\n",
       " 'reason',\n",
       " 'buy',\n",
       " 'first',\n",
       " 'place',\n",
       " 'not',\n",
       " 'deliver',\n",
       " 'taste',\n",
       " 'department.disclaimer',\n",
       " 'understand',\n",
       " 'taste',\n",
       " 'differ',\n",
       " '.']"
      ]
     },
     "execution_count": 181,
     "metadata": {},
     "output_type": "execute_result"
    }
   ],
   "source": [
    "# checking a random review\n",
    "sentences[RAND_IDX]"
   ]
  },
  {
   "cell_type": "code",
   "execution_count": 183,
   "metadata": {},
   "outputs": [
    {
     "name": "stdout",
     "output_type": "stream",
     "text": [
      "Vocabulary size: 339109\n"
     ]
    }
   ],
   "source": [
    "\n",
    "# train word2vec model\n",
    "model_word2vec = gensim.models.Word2Vec(sentences=sentences, size=EMBEDDING_DIM, window=5, workers=4, min_count=1)\n",
    "\n",
    "# vocab size\n",
    "words = list(model_word2vec.wv.vocab)\n",
    "print('Vocabulary size: %d' % len(words))"
   ]
  },
  {
   "cell_type": "code",
   "execution_count": 185,
   "metadata": {},
   "outputs": [
    {
     "data": {
      "text/plain": [
       "[('delicious', 0.7955854535102844),\n",
       " ('yummy', 0.7198179960250854),\n",
       " ('flavorful', 0.7160199880599976),\n",
       " ('tastey', 0.643338680267334),\n",
       " ('good', 0.602535605430603),\n",
       " ('goodtasting', 0.5666812658309937),\n",
       " ('nice', 0.5660061240196228),\n",
       " ('satisfying', 0.5643998384475708),\n",
       " ('enjoyable', 0.549829363822937),\n",
       " ('sweet', 0.5464555025100708)]"
      ]
     },
     "execution_count": 185,
     "metadata": {},
     "output_type": "execute_result"
    }
   ],
   "source": [
    "# word most similar to given word\n",
    "model_word2vec.wv.most_similar('tasty')"
   ]
  },
  {
   "cell_type": "code",
   "execution_count": 189,
   "metadata": {},
   "outputs": [
    {
     "data": {
      "text/plain": [
       "[('terrible', 0.9185449481010437),\n",
       " ('awful', 0.8790462017059326),\n",
       " ('horrid', 0.7899550199508667),\n",
       " ('nasty', 0.7880028486251831),\n",
       " ('disgust', 0.7879340052604675),\n",
       " ('bad', 0.7374359965324402),\n",
       " ('foul', 0.7031999230384827),\n",
       " ('gross', 0.7025725841522217),\n",
       " ('horrendous', 0.6756419539451599),\n",
       " ('yuck', 0.6686997413635254)]"
      ]
     },
     "execution_count": 189,
     "metadata": {},
     "output_type": "execute_result"
    }
   ],
   "source": [
    "# word most similar to given word\n",
    "model_word2vec.wv.most_similar('horrible')"
   ]
  },
  {
   "cell_type": "code",
   "execution_count": 216,
   "metadata": {},
   "outputs": [
    {
     "name": "stdout",
     "output_type": "stream",
     "text": [
      "tea\n"
     ]
    }
   ],
   "source": [
    "# odd one out\n",
    "print(model_word2vec.wv.doesnt_match(\"love hate tasty tea\".split()))"
   ]
  },
  {
   "cell_type": "code",
   "execution_count": 222,
   "metadata": {},
   "outputs": [
    {
     "data": {
      "text/plain": [
       "[('cabinet', 0.6798872947692871),\n",
       " ('pantry', 0.6145085096359253),\n",
       " ('cupboard', 0.612008810043335)]"
      ]
     },
     "execution_count": 222,
     "metadata": {},
     "output_type": "execute_result"
    }
   ],
   "source": [
    "# word most similar to given word\n",
    "model_word2vec.wv.similar_by_word(\"kitchen\")[:3]"
   ]
  },
  {
   "cell_type": "code",
   "execution_count": 231,
   "metadata": {},
   "outputs": [],
   "source": [
    "# save the trained word2vec embeddings\n",
    "filename = 'amazon_fine_food_reviews_embedding_word2vec.txt'\n",
    "model_word2vec.wv.save_word2vec_format(filename, binary=False)"
   ]
  },
  {
   "cell_type": "code",
   "execution_count": 232,
   "metadata": {},
   "outputs": [],
   "source": [
    "# creating dictionary of words containing corresponding word embeddings\n",
    "\n",
    "embeddings_index = {}\n",
    "\n",
    "f = open(filename,  encoding = \"utf-8\")\n",
    "\n",
    "for line in f:\n",
    "    values = line.split()\n",
    "    word = values[0]\n",
    "    coefs = np.asarray(values[1:])\n",
    "    embeddings_index[word] = coefs\n",
    "    \n",
    "f.close()"
   ]
  },
  {
   "cell_type": "code",
   "execution_count": 233,
   "metadata": {},
   "outputs": [],
   "source": [
    "# creating embedding matrix for directly feeding to Embedding() layer of Keras\n",
    "\n",
    "num_words = len(tokenizer.word_index)+1\n",
    "embedding_matrix = np.zeros((num_words, EMBEDDING_DIM))\n",
    "\n",
    "for word, i in tokenizer.word_index.items():\n",
    "    \n",
    "    if i > num_words:\n",
    "        continue\n",
    "        \n",
    "    embedding_vector = embeddings_index.get(word)\n",
    "    \n",
    "    if embedding_vector is not None:\n",
    "        embedding_matrix[i] = embedding_vector\n",
    "        \n"
   ]
  },
  {
   "cell_type": "code",
   "execution_count": 236,
   "metadata": {},
   "outputs": [
    {
     "name": "stdout",
     "output_type": "stream",
     "text": [
      "_________________________________________________________________\n",
      "Layer (type)                 Output Shape              Param #   \n",
      "=================================================================\n",
      "embedding_9 (Embedding)      (None, 60, 100)           9434700   \n",
      "_________________________________________________________________\n",
      "dropout_15 (Dropout)         (None, 60, 100)           0         \n",
      "_________________________________________________________________\n",
      "conv1d_8 (Conv1D)            (None, 56, 64)            32064     \n",
      "_________________________________________________________________\n",
      "max_pooling1d_8 (MaxPooling1 (None, 14, 64)            0         \n",
      "_________________________________________________________________\n",
      "lstm_8 (LSTM)                (None, 100)               66000     \n",
      "_________________________________________________________________\n",
      "dropout_16 (Dropout)         (None, 100)               0         \n",
      "_________________________________________________________________\n",
      "dense_8 (Dense)              (None, 1)                 101       \n",
      "=================================================================\n",
      "Total params: 9,532,865\n",
      "Trainable params: 98,165\n",
      "Non-trainable params: 9,434,700\n",
      "_________________________________________________________________\n"
     ]
    }
   ],
   "source": [
    "# actual model\n",
    "\n",
    "model_trained_word2vec = Sequential()\n",
    "\n",
    "embedding_layer = Embedding(len(tokenizer.word_index)+1,\n",
    "                            EMBEDDING_DIM,\n",
    "                            embeddings_initializer=Constant(embedding_matrix),\n",
    "                            input_length=MAX_SEQUENCE_LENGTH,\n",
    "                            trainable=False)\n",
    "model_trained_word2vec.add(embedding_layer)\n",
    "model_trained_word2vec.add(Dropout(0.3))\n",
    "\n",
    "model_trained_word2vec.add(Conv1D(64, 5, activation='relu'))\n",
    "model_trained_word2vec.add(MaxPooling1D(pool_size=4))\n",
    "\n",
    "model_trained_word2vec.add(LSTM(100))\n",
    "model_trained_word2vec.add(Dropout(0.4))\n",
    "\n",
    "model_trained_word2vec.add(Dense(1, activation='sigmoid'))\n",
    "\n",
    "optimizer = Adam(lr=1e-3, beta_1=0.9, beta_2=0.999, epsilon=1e-08, decay=0.0, amsgrad=False)\n",
    "\n",
    "model_trained_word2vec.compile(loss='binary_crossentropy', optimizer=optimizer, metrics=['accuracy'])\n",
    "model_trained_word2vec.summary()"
   ]
  },
  {
   "cell_type": "code",
   "execution_count": 237,
   "metadata": {},
   "outputs": [
    {
     "name": "stdout",
     "output_type": "stream",
     "text": [
      "Train on 259666 samples, validate on 86555 samples\n",
      "Epoch 1/10\n",
      "259666/259666 [==============================] - 398s 2ms/step - loss: 0.2316 - acc: 0.9062 - val_loss: 0.1843 - val_acc: 0.9278\n",
      "Epoch 2/10\n",
      "259666/259666 [==============================] - 337s 1ms/step - loss: 0.1995 - acc: 0.9212 - val_loss: 0.1772 - val_acc: 0.9316\n",
      "Epoch 3/10\n",
      "259666/259666 [==============================] - 329s 1ms/step - loss: 0.1905 - acc: 0.9249 - val_loss: 0.1695 - val_acc: 0.9342\n",
      "Epoch 4/10\n",
      "259666/259666 [==============================] - 333s 1ms/step - loss: 0.1847 - acc: 0.9272 - val_loss: 0.1706 - val_acc: 0.9329\n",
      "Epoch 5/10\n",
      "259666/259666 [==============================] - 337s 1ms/step - loss: 0.1826 - acc: 0.9284 - val_loss: 0.1684 - val_acc: 0.9345\n",
      "Epoch 6/10\n",
      "259666/259666 [==============================] - 349s 1ms/step - loss: 0.1797 - acc: 0.9292 - val_loss: 0.1661 - val_acc: 0.9352\n",
      "Epoch 7/10\n",
      "259666/259666 [==============================] - 341s 1ms/step - loss: 0.1773 - acc: 0.9301 - val_loss: 0.1678 - val_acc: 0.9357\n",
      "Epoch 8/10\n",
      "259666/259666 [==============================] - 345s 1ms/step - loss: 0.1753 - acc: 0.9309 - val_loss: 0.1639 - val_acc: 0.9361\n",
      "Epoch 9/10\n",
      "259666/259666 [==============================] - 356s 1ms/step - loss: 0.1749 - acc: 0.9305 - val_loss: 0.1620 - val_acc: 0.9366\n",
      "Epoch 10/10\n",
      "259666/259666 [==============================] - 397s 2ms/step - loss: 0.1734 - acc: 0.9321 - val_loss: 0.1631 - val_acc: 0.9372\n"
     ]
    }
   ],
   "source": [
    "\n",
    "# training the model\n",
    "model_trained_word2vec_history = model_trained_word2vec.fit(x_train, y_train, batch_size=32, epochs=10, validation_data=(x_val, y_val))\n"
   ]
  },
  {
   "cell_type": "markdown",
   "metadata": {},
   "source": [
    "### Training Accuracy - 93.21%\n",
    "### Validation Accuracy - 93.72%"
   ]
  },
  {
   "cell_type": "code",
   "execution_count": 238,
   "metadata": {},
   "outputs": [],
   "source": [
    "# model history parameters\n",
    "\n",
    "history = model_trained_word2vec_history.history\n",
    "\n",
    "train_accuracy = history['acc']\n",
    "train_loss = history['loss']\n",
    "\n",
    "val_accuracy = history['val_acc']\n",
    "val_loss = history['val_loss']\n",
    "\n",
    "epochs = range(1, len(train_accuracy) + 1)"
   ]
  },
  {
   "cell_type": "code",
   "execution_count": 239,
   "metadata": {},
   "outputs": [
    {
     "data": {
      "image/png": "[encoded data removed]",
      "text/plain": [
       "<Figure size 720x360 with 1 Axes>"
      ]
     },
     "metadata": {
      "needs_background": "light"
     },
     "output_type": "display_data"
    }
   ],
   "source": [
    "# plot showing training and validation losses\n",
    "\n",
    "mpl.rcParams['figure.figsize'] = (10, 5)\n",
    "\n",
    "plt.plot(epochs, train_loss, 'g', label='Training Loss')\n",
    "plt.plot(epochs, val_loss, 'b', label='Validation Loss')\n",
    "\n",
    "plt.title('Training and Validation Loss')\n",
    "plt.xlabel('Epochs')\n",
    "plt.ylabel('Loss')\n",
    "\n",
    "plt.legend()\n",
    "plt.show()"
   ]
  },
  {
   "cell_type": "code",
   "execution_count": 240,
   "metadata": {},
   "outputs": [
    {
     "data": {
      "image/png": "[encoded data removed]",
      "text/plain": [
       "<Figure size 720x360 with 1 Axes>"
      ]
     },
     "metadata": {
      "needs_background": "light"
     },
     "output_type": "display_data"
    }
   ],
   "source": [
    "# plot showing training and validation accuracy\n",
    "\n",
    "plt.plot(epochs, train_accuracy, 'g', label='Training Accuracy')\n",
    "plt.plot(epochs, val_accuracy, 'b', label='Validation Accuracy')\n",
    "\n",
    "plt.title('Training and Validation Accuracy')\n",
    "plt.xlabel('Epochs')\n",
    "plt.ylabel('Accuracy')\n",
    "\n",
    "plt.legend()\n",
    "plt.show()"
   ]
  },
  {
   "cell_type": "code",
   "execution_count": 241,
   "metadata": {},
   "outputs": [
    {
     "name": "stdout",
     "output_type": "stream",
     "text": [
      "86557/86557 [==============================] - 40s 463us/step\n"
     ]
    },
    {
     "data": {
      "text/plain": [
       "[0.16001898619368626, 0.9389650750372587]"
      ]
     },
     "execution_count": 241,
     "metadata": {},
     "output_type": "execute_result"
    }
   ],
   "source": [
    "# evaluating the model on test dataset\n",
    "model_trained_word2vec.evaluate(x_test, y_test)"
   ]
  },
  {
   "cell_type": "markdown",
   "metadata": {},
   "source": [
    "## Test Accuracy - 93.89%"
   ]
  },
  {
   "cell_type": "code",
   "execution_count": 242,
   "metadata": {},
   "outputs": [
    {
     "name": "stdout",
     "output_type": "stream",
     "text": [
      "1. Positive with 90.88% surity\n",
      "2. Negative with 83.67% surity\n",
      "3. Positive with 79.18% surity\n",
      "4. Positive with 75.59% surity\n",
      "5. Negative with 64.46% surity\n",
      "6. Positive with 90.54% surity\n",
      "7. Positive with 99.54% surity\n",
      "8. Positive with 90.42% surity\n",
      "9. Positive with 89.64% surity\n"
     ]
    }
   ],
   "source": [
    "# custom test samples\n",
    "\n",
    "samples = [\n",
    "           \"The taste of the biscuits was quite spectacular. It seemed as if it was taken straight from heaven\",\n",
    "           \"Peanuts were too salty according to my taste\",\n",
    "           \"Food was unhygienic. I fell ill after eating\",\n",
    "           \"I am sure I liked what i had\",\n",
    "            \"I am not sure I liked what i had\",\n",
    "            \"If you are looking for a secret ingredient, go for it\",\n",
    "            \"When i first bought this, i was confused about its quality and taste. But after eating this, my children fell in love with me. Thanks!!\",\n",
    "            \"If you are looking for a quality food, dr. oetkers product always seem to be my first choice\",\n",
    "            \"I'm not really a tea drinker but my husband is and he loves this tea. So on his behalf I'm recommending it. Just go on with my hubby's recommendation.\"\n",
    "          ]\n",
    "\n",
    "processed_samples = []\n",
    "for sample in samples:\n",
    "    processed_samples.append(preprocess_text(sample))\n",
    "\n",
    "vectorized_samples = tokenizer.texts_to_sequences(processed_samples)\n",
    "vectorized_samples = pad_sequences(vectorized_samples, maxlen=MAX_SEQUENCE_LENGTH, padding='post')\n",
    "\n",
    "predictions = model_trained_word2vec.predict(vectorized_samples)\n",
    "\n",
    "THRESHOLD_PREDICTION = 0.6\n",
    "\n",
    "for idx, pred in enumerate(predictions):\n",
    "    if(pred > THRESHOLD_PREDICTION):\n",
    "        print(\"{}. Positive with {:.2f}% surity\".format(idx+1, pred[0]*100))\n",
    "    else:\n",
    "        print(\"{}. Negative with {:.2f}% surity\".format(idx+1, 100-pred[0]*100))\n"
   ]
  },
  {
   "cell_type": "markdown",
   "metadata": {},
   "source": [
    "## The third prediction on \"Food was unhygienic. I fell ill after eating\" is wrong - Positive with 79.18% surity\n",
    "\n",
    "## But the earlier model was rightly predicting \"Food was unhygienic. I fell ill after eating\" - Negative with 96.88% surity"
   ]
  },
  {
   "cell_type": "code",
   "execution_count": 243,
   "metadata": {},
   "outputs": [],
   "source": [
    "# saving the trained word2vec model\n",
    "model_trained_word2vec.save(\"trained_word2vec_model.h5\")"
   ]
  }
 ],
 "metadata": {
  "kernelspec": {
   "display_name": "Python 3 (ipykernel)",
   "language": "python",
   "name": "python3"
  },
  "language_info": {
   "codemirror_mode": {
    "name": "ipython",
    "version": 3
   },
   "file_extension": ".py",
   "mimetype": "text/x-python",
   "name": "python",
   "nbconvert_exporter": "python",
   "pygments_lexer": "ipython3",
   "version": "3.12.4"
  }
 },
 "nbformat": 4,
 "nbformat_minor": 4
}
