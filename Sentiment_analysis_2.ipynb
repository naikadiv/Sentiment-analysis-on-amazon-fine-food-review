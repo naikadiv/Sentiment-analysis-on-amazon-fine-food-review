{
 "cells": [
  {
   "cell_type": "code",
   "execution_count": 2,
   "metadata": {},
   "outputs": [
    {
     "name": "stderr",
     "output_type": "stream",
     "text": [
      "[nltk_data] Downloading package stopwords to\n",
      "[nltk_data]     C:\\Users\\nagma\\AppData\\Roaming\\nltk_data...\n",
      "[nltk_data]   Package stopwords is already up-to-date!\n",
      "[nltk_data] Downloading package wordnet to\n",
      "[nltk_data]     C:\\Users\\nagma\\AppData\\Roaming\\nltk_data...\n",
      "[nltk_data]   Package wordnet is already up-to-date!\n",
      "[nltk_data] Downloading package punkt to\n",
      "[nltk_data]     C:\\Users\\nagma\\AppData\\Roaming\\nltk_data...\n",
      "[nltk_data]   Package punkt is already up-to-date!\n",
      "[nltk_data] Downloading package averaged_perceptron_tagger to\n",
      "[nltk_data]     C:\\Users\\nagma\\AppData\\Roaming\\nltk_data...\n",
      "[nltk_data]   Package averaged_perceptron_tagger is already up-to-\n",
      "[nltk_data]       date!\n"
     ]
    }
   ],
   "source": [
    "import subprocess\n",
    "import sys\n",
    "\n",
    "# Ensure scipy is up to date\n",
    "subprocess.check_call([sys.executable, \"-m\", \"pip\", \"install\", \"--upgrade\", \"scipy\"])\n",
    "\n",
    "# Ensure gensim and cython are properly installed\n",
    "subprocess.check_call([sys.executable, \"-m\", \"pip\", \"install\", \"cython\"])\n",
    "subprocess.check_call([sys.executable, \"-m\", \"pip\", \"install\", \"--upgrade\", \"gensim\"])\n",
    "\n",
    "# Import necessary libraries\n",
    "import os\n",
    "import random\n",
    "import pandas as pd\n",
    "import re\n",
    "import numpy as np\n",
    "import matplotlib.pyplot as plt\n",
    "import matplotlib as mpl\n",
    "import functools\n",
    "from keras import backend as K\n",
    "import tensorflow as tf\n",
    "from tensorflow.keras.preprocessing.sequence import pad_sequences  # Updated import\n",
    "from tensorflow.keras.preprocessing.text import Tokenizer  # Updated import\n",
    "from keras.models import Sequential\n",
    "from keras.layers import Dense, Embedding, LSTM, Dropout, Conv1D, MaxPooling1D\n",
    "from keras.optimizers import Adam\n",
    "from keras.initializers import Constant\n",
    "\n",
    "import nltk\n",
    "from nltk import pos_tag\n",
    "from nltk.tokenize import word_tokenize\n",
    "from nltk.stem import WordNetLemmatizer\n",
    "from nltk.corpus import stopwords\n",
    "\n",
    "# Download NLTK datasets\n",
    "nltk.download(\"stopwords\")  # for removing stop words\n",
    "nltk.download(\"wordnet\")  # for using wordnet lemmatizer\n",
    "nltk.download('punkt')  # for using nltk.tokenize.word_tokenize\n",
    "nltk.download('averaged_perceptron_tagger')  # for using nltk.pos_tag\n",
    "\n",
    "# Install WordCloud package if not installed\n",
    "try:\n",
    "    from wordcloud import WordCloud\n",
    "except ImportError:\n",
    "    subprocess.check_call([sys.executable, \"-m\", \"pip\", \"install\", \"wordcloud\"])\n",
    "    from wordcloud import WordCloud\n",
    "\n",
    "# Now gensim can be imported without issues\n",
    "import gensim\n",
    "\n",
    "# Load your model if necessary\n",
    "from keras.models import load_model\n"
   ]
  },
  {
   "cell_type": "markdown",
   "metadata": {},
   "source": [
    "# Sentiment Analysis Using GloVe Embedding + Averaging and GloVe Embedding + Advanced Architecture"
   ]
  },
  {
   "cell_type": "code",
   "execution_count": 4,
   "metadata": {},
   "outputs": [
    {
     "name": "stdout",
     "output_type": "stream",
     "text": [
      "Shape of data:  (568454, 10)\n"
     ]
    },
    {
     "data": {
      "text/html": [
       "<div>\n",
       "<style scoped>\n",
       "    .dataframe tbody tr th:only-of-type {\n",
       "        vertical-align: middle;\n",
       "    }\n",
       "\n",
       "    .dataframe tbody tr th {\n",
       "        vertical-align: top;\n",
       "    }\n",
       "\n",
       "    .dataframe thead th {\n",
       "        text-align: right;\n",
       "    }\n",
       "</style>\n",
       "<table border=\"1\" class=\"dataframe\">\n",
       "  <thead>\n",
       "    <tr style=\"text-align: right;\">\n",
       "      <th></th>\n",
       "      <th>Id</th>\n",
       "      <th>ProductId</th>\n",
       "      <th>UserId</th>\n",
       "      <th>ProfileName</th>\n",
       "      <th>HelpfulnessNumerator</th>\n",
       "      <th>HelpfulnessDenominator</th>\n",
       "      <th>Score</th>\n",
       "      <th>Time</th>\n",
       "      <th>Summary</th>\n",
       "      <th>Text</th>\n",
       "    </tr>\n",
       "  </thead>\n",
       "  <tbody>\n",
       "    <tr>\n",
       "      <th>86978</th>\n",
       "      <td>86979</td>\n",
       "      <td>B000LQJT5A</td>\n",
       "      <td>A1CEHGX8NWH6QM</td>\n",
       "      <td>korean friend</td>\n",
       "      <td>0</td>\n",
       "      <td>0</td>\n",
       "      <td>5</td>\n",
       "      <td>1343347200</td>\n",
       "      <td>GOOD PRODUCT</td>\n",
       "      <td>Nong Shim Neoguri Spicy Seafood Noodle Ramyun,...</td>\n",
       "    </tr>\n",
       "    <tr>\n",
       "      <th>407738</th>\n",
       "      <td>407739</td>\n",
       "      <td>B000EMAZPO</td>\n",
       "      <td>AX1BLGBMHPOSV</td>\n",
       "      <td>KC</td>\n",
       "      <td>5</td>\n",
       "      <td>5</td>\n",
       "      <td>4</td>\n",
       "      <td>1296259200</td>\n",
       "      <td>OK for an easy to find tea.</td>\n",
       "      <td>Let me start by saying I do not find regular L...</td>\n",
       "    </tr>\n",
       "    <tr>\n",
       "      <th>445775</th>\n",
       "      <td>445776</td>\n",
       "      <td>B001D0GV7M</td>\n",
       "      <td>A391LVMY75659W</td>\n",
       "      <td>FoxtrotU</td>\n",
       "      <td>0</td>\n",
       "      <td>3</td>\n",
       "      <td>1</td>\n",
       "      <td>1297555200</td>\n",
       "      <td>Just Weak Coffee, No Mocha To Be Had</td>\n",
       "      <td>I purchased Timothy's Mocha Java because of th...</td>\n",
       "    </tr>\n",
       "    <tr>\n",
       "      <th>300225</th>\n",
       "      <td>300226</td>\n",
       "      <td>B001Q9EGFE</td>\n",
       "      <td>A1V81ZAUGS0LE3</td>\n",
       "      <td>Dinubabear</td>\n",
       "      <td>3</td>\n",
       "      <td>5</td>\n",
       "      <td>4</td>\n",
       "      <td>1247702400</td>\n",
       "      <td>Not for picky eaters</td>\n",
       "      <td>The treats come in 3 sizes/shapes.  The heart ...</td>\n",
       "    </tr>\n",
       "    <tr>\n",
       "      <th>421951</th>\n",
       "      <td>421952</td>\n",
       "      <td>B000CR41KQ</td>\n",
       "      <td>A2KS7YHNBNESZJ</td>\n",
       "      <td>P. M. OMalley</td>\n",
       "      <td>0</td>\n",
       "      <td>0</td>\n",
       "      <td>5</td>\n",
       "      <td>1334102400</td>\n",
       "      <td>pleasing plus healthy</td>\n",
       "      <td>Our dogs adore getting treated but one has rea...</td>\n",
       "    </tr>\n",
       "  </tbody>\n",
       "</table>\n",
       "</div>"
      ],
      "text/plain": [
       "            Id   ProductId          UserId    ProfileName  \\\n",
       "86978    86979  B000LQJT5A  A1CEHGX8NWH6QM  korean friend   \n",
       "407738  407739  B000EMAZPO   AX1BLGBMHPOSV             KC   \n",
       "445775  445776  B001D0GV7M  A391LVMY75659W       FoxtrotU   \n",
       "300225  300226  B001Q9EGFE  A1V81ZAUGS0LE3     Dinubabear   \n",
       "421951  421952  B000CR41KQ  A2KS7YHNBNESZJ  P. M. OMalley   \n",
       "\n",
       "        HelpfulnessNumerator  HelpfulnessDenominator  Score        Time  \\\n",
       "86978                      0                       0      5  1343347200   \n",
       "407738                     5                       5      4  1296259200   \n",
       "445775                     0                       3      1  1297555200   \n",
       "300225                     3                       5      4  1247702400   \n",
       "421951                     0                       0      5  1334102400   \n",
       "\n",
       "                                     Summary  \\\n",
       "86978                           GOOD PRODUCT   \n",
       "407738           OK for an easy to find tea.   \n",
       "445775  Just Weak Coffee, No Mocha To Be Had   \n",
       "300225                  Not for picky eaters   \n",
       "421951                 pleasing plus healthy   \n",
       "\n",
       "                                                     Text  \n",
       "86978   Nong Shim Neoguri Spicy Seafood Noodle Ramyun,...  \n",
       "407738  Let me start by saying I do not find regular L...  \n",
       "445775  I purchased Timothy's Mocha Java because of th...  \n",
       "300225  The treats come in 3 sizes/shapes.  The heart ...  \n",
       "421951  Our dogs adore getting treated but one has rea...  "
      ]
     },
     "execution_count": 4,
     "metadata": {},
     "output_type": "execute_result"
    }
   ],
   "source": [
    "path = \"C:\\\\Users\\\\nagma\\\\Downloads\\\\Reviews.csv\"\n",
    "\n",
    "data = pd.read_csv(path, encoding=\"utf-8\")\n",
    "data = data.reindex(np.random.permutation(data.index))\n",
    "\n",
    "print(\"Shape of data: \", data.shape)\n",
    "data.head()"
   ]
  },
  {
   "cell_type": "code",
   "execution_count": 6,
   "metadata": {},
   "outputs": [
    {
     "data": {
      "text/html": [
       "<div>\n",
       "<style scoped>\n",
       "    .dataframe tbody tr th:only-of-type {\n",
       "        vertical-align: middle;\n",
       "    }\n",
       "\n",
       "    .dataframe tbody tr th {\n",
       "        vertical-align: top;\n",
       "    }\n",
       "\n",
       "    .dataframe thead th {\n",
       "        text-align: right;\n",
       "    }\n",
       "</style>\n",
       "<table border=\"1\" class=\"dataframe\">\n",
       "  <thead>\n",
       "    <tr style=\"text-align: right;\">\n",
       "      <th></th>\n",
       "      <th>Score</th>\n",
       "      <th>Summary</th>\n",
       "      <th>Text</th>\n",
       "    </tr>\n",
       "  </thead>\n",
       "  <tbody>\n",
       "    <tr>\n",
       "      <th>100</th>\n",
       "      <td>5</td>\n",
       "      <td>Taste wise it is a 6 star item</td>\n",
       "      <td>The mouth says, \"How do I love thee, let me co...</td>\n",
       "    </tr>\n",
       "    <tr>\n",
       "      <th>200</th>\n",
       "      <td>2</td>\n",
       "      <td>Altoids Smalls</td>\n",
       "      <td>Even with small containers, they don't fill th...</td>\n",
       "    </tr>\n",
       "    <tr>\n",
       "      <th>334</th>\n",
       "      <td>1</td>\n",
       "      <td>Does not taste very good</td>\n",
       "      <td>Taste like it is stale.  Will not order this a...</td>\n",
       "    </tr>\n",
       "    <tr>\n",
       "      <th>424367</th>\n",
       "      <td>4</td>\n",
       "      <td>Easy to prepare, excellent taste but...a bit t...</td>\n",
       "      <td>I really like Indian food for some reason, esp...</td>\n",
       "    </tr>\n",
       "    <tr>\n",
       "      <th>1446</th>\n",
       "      <td>3</td>\n",
       "      <td>THICK SOUP</td>\n",
       "      <td>Not bad, but like others say a bit too salty. ...</td>\n",
       "    </tr>\n",
       "  </tbody>\n",
       "</table>\n",
       "</div>"
      ],
      "text/plain": [
       "        Score                                            Summary  \\\n",
       "100         5                     Taste wise it is a 6 star item   \n",
       "200         2                                     Altoids Smalls   \n",
       "334         1                           Does not taste very good   \n",
       "424367      4  Easy to prepare, excellent taste but...a bit t...   \n",
       "1446        3                                         THICK SOUP   \n",
       "\n",
       "                                                     Text  \n",
       "100     The mouth says, \"How do I love thee, let me co...  \n",
       "200     Even with small containers, they don't fill th...  \n",
       "334     Taste like it is stale.  Will not order this a...  \n",
       "424367  I really like Indian food for some reason, esp...  \n",
       "1446    Not bad, but like others say a bit too salty. ...  "
      ]
     },
     "execution_count": 6,
     "metadata": {},
     "output_type": "execute_result"
    }
   ],
   "source": [
    "data.loc[[100, 200, 334, 424367, 1446], [\"Score\", \"Summary\", \"Text\"]]"
   ]
  },
  {
   "cell_type": "code",
   "execution_count": 8,
   "metadata": {},
   "outputs": [],
   "source": [
    "reviews_text = data[\"Text\"].values\n",
    "reviews_title = data[\"Summary\"].values\n",
    "reviews_rating = data[\"Score\"].values"
   ]
  },
  {
   "cell_type": "code",
   "execution_count": 10,
   "metadata": {},
   "outputs": [],
   "source": [
    "# nltk libraries\n",
    "\n",
    "stop_words = set(stopwords.words('english'))\n",
    "\n",
    "lemmatiser = WordNetLemmatizer()"
   ]
  },
  {
   "cell_type": "code",
   "execution_count": 12,
   "metadata": {},
   "outputs": [],
   "source": [
    "# returns the Part-Of-Speech(pos) tag which is required as an argument for\n",
    "# lemmatizer for determiing the context of the word for lemmatization\n",
    "\n",
    "def get_wordnet_pos(pos_tag):\n",
    "\n",
    "    if pos_tag.startswith('J'):  \n",
    "        return 'a' # adjective\n",
    "    elif pos_tag.startswith('V'): \n",
    "        return 'v' # verb\n",
    "    elif pos_tag.startswith('R'):\n",
    "        return 'r' # adverb\n",
    "    else:           \n",
    "        return 'n' # fallback to noun"
   ]
  },
  {
   "cell_type": "code",
   "execution_count": 14,
   "metadata": {},
   "outputs": [
    {
     "name": "stdout",
     "output_type": "stream",
     "text": [
      "Original   Lemmatized \n",
      "move         move\n",
      "moves         move\n",
      "moved         move\n",
      "moving         move\n",
      "study         study\n",
      "studies         study\n",
      "studying         study\n",
      "studied         studied\n",
      "workers         worker\n",
      "worker         worker\n",
      "working         work\n",
      "worked         work\n",
      "go         go\n",
      "went         go\n",
      "gone         go\n"
     ]
    }
   ],
   "source": [
    "# example of lemmatization\n",
    "\n",
    "example = \"move moves moved moving study studies studying studied workers worker working worked go went gone\"\n",
    "\n",
    "tokens = word_tokenize(example) # Generate list of tokens\n",
    "tokens_pos = pos_tag(tokens) \n",
    "\n",
    "print(\"Original   Lemmatized \")\n",
    "for tok, tag in tokens_pos:\n",
    "    pos = get_wordnet_pos(tag)\n",
    "    print(tok, \"       \",lemmatiser.lemmatize(tok, pos=pos))"
   ]
  },
  {
   "cell_type": "code",
   "execution_count": 18,
   "metadata": {},
   "outputs": [
    {
     "name": "stderr",
     "output_type": "stream",
     "text": [
      "[nltk_data] Downloading package stopwords to\n",
      "[nltk_data]     C:\\Users\\nagma\\AppData\\Roaming\\nltk_data...\n",
      "[nltk_data]   Package stopwords is already up-to-date!\n",
      "[nltk_data] Downloading package punkt to\n",
      "[nltk_data]     C:\\Users\\nagma\\AppData\\Roaming\\nltk_data...\n",
      "[nltk_data]   Package punkt is already up-to-date!\n",
      "[nltk_data] Downloading package averaged_perceptron_tagger to\n",
      "[nltk_data]     C:\\Users\\nagma\\AppData\\Roaming\\nltk_data...\n",
      "[nltk_data]   Package averaged_perceptron_tagger is already up-to-\n",
      "[nltk_data]       date!\n",
      "[nltk_data] Downloading package wordnet to\n",
      "[nltk_data]     C:\\Users\\nagma\\AppData\\Roaming\\nltk_data...\n",
      "[nltk_data]   Package wordnet is already up-to-date!\n"
     ]
    }
   ],
   "source": [
    "import re\n",
    "import nltk\n",
    "from nltk.tokenize import word_tokenize\n",
    "from nltk.corpus import stopwords\n",
    "from nltk import pos_tag\n",
    "from nltk.stem import WordNetLemmatizer\n",
    "\n",
    "# Download necessary NLTK resources\n",
    "nltk.download(\"stopwords\")\n",
    "nltk.download(\"punkt\")\n",
    "nltk.download(\"averaged_perceptron_tagger\")\n",
    "nltk.download(\"wordnet\")\n",
    "\n",
    "# Initialize lemmatizer\n",
    "lemmatiser = WordNetLemmatizer()\n",
    "\n",
    "# Define stop words\n",
    "stop_words = set(stopwords.words(\"english\"))\n",
    "\n",
    "# Function to map POS tag to WordNet POS tag\n",
    "def get_wordnet_pos(tag):\n",
    "    if tag.startswith('J'):\n",
    "        return 'a'  # adjective\n",
    "    elif tag.startswith('V'):\n",
    "        return 'v'  # verb\n",
    "    elif tag.startswith('N'):\n",
    "        return 'n'  # noun\n",
    "    elif tag.startswith('R'):\n",
    "        return 'r'  # adverb\n",
    "    else:\n",
    "        return 'n'  # default to noun\n",
    "\n",
    "# Perform text preprocessing\n",
    "def preprocess_text(text):\n",
    "    # lowercase the entire text\n",
    "    text = text.lower()\n",
    "    \n",
    "    # remove all html tags from dataset\n",
    "    text = re.sub(r'<.*?>', \"\", text)\n",
    "    \n",
    "    # Replace special characters and punctuation by a blank (except for full stop(.))\n",
    "    text = re.sub(r'[^a-z0-9 \\.]', '', text)\n",
    "    \n",
    "    # split the text into words\n",
    "    words = word_tokenize(text) \n",
    "    \n",
    "    # remove stop words like to, an, the, of, over, his, her, there, their ...\n",
    "    words = [w for w in words if w == \"not\" or not w in stop_words]\n",
    "    \n",
    "    # get POS tagging for words, required by lemmatizer\n",
    "    words_pos = pos_tag(words) \n",
    "    \n",
    "    lemmatized_words = []\n",
    "    \n",
    "    for word, tag in words_pos:\n",
    "        pos = get_wordnet_pos(tag)\n",
    "        lemmatized_word = lemmatiser.lemmatize(word, pos=pos)\n",
    "        lemmatized_words.append(lemmatized_word)\n",
    "    \n",
    "    text = \" \".join(lemmatized_words)\n",
    "    \n",
    "    return text"
   ]
  },
  {
   "cell_type": "code",
   "execution_count": 20,
   "metadata": {},
   "outputs": [
    {
     "name": "stdout",
     "output_type": "stream",
     "text": [
      "568454\n"
     ]
    }
   ],
   "source": [
    "DATA_SIZE = reviews_text.size\n",
    "\n",
    "reviews = []\n",
    "labels = np.zeros(DATA_SIZE)\n",
    "\n",
    "print(DATA_SIZE)"
   ]
  },
  {
   "cell_type": "code",
   "execution_count": 10,
   "metadata": {},
   "outputs": [],
   "source": [
    "# data preprocessing step\n",
    "# will take several minutes!(almost an hour)\n",
    "\n",
    "for i in range(DATA_SIZE):\n",
    "    \n",
    "    text = str(reviews_text[i])\n",
    "    title = str(reviews_title[i])\n",
    "    rating = reviews_rating[i]\n",
    "    \n",
    "    review = title + \" \" + text\n",
    "    review = preprocess_text(review)\n",
    "    reviews.append(review)\n",
    "\n",
    "    if(rating > 3.0):\n",
    "        labels[i] = 1 # Positive Review (1)"
   ]
  },
  {
   "cell_type": "code",
   "execution_count": 11,
   "metadata": {},
   "outputs": [
    {
     "data": {
      "image/png": "[encoded data removed]",
      "text/plain": [
       "<Figure size 432x288 with 1 Axes>"
      ]
     },
     "metadata": {
      "needs_background": "light"
     },
     "output_type": "display_data"
    }
   ],
   "source": [
    "# plot showing lengthwise distribution of reviews\n",
    "\n",
    "bins = [20*i for i in range(1, 30)]\n",
    "\n",
    "plt.hist([len(s.split()) for s in reviews], bins=bins)\n",
    "\n",
    "plt.xlabel('No of words in a review')\n",
    "plt.ylabel('Number of reviews')\n",
    "plt.title('Reviews Length Distribution') \n",
    "\n",
    "plt.axis([0, 300, 0, 230000])\n",
    "plt.grid(True)\n",
    "\n",
    "plt.show()"
   ]
  },
  {
   "cell_type": "markdown",
   "metadata": {},
   "source": [
    "The majority of reviews are covered if length < 60 words"
   ]
  },
  {
   "cell_type": "code",
   "execution_count": 12,
   "metadata": {},
   "outputs": [],
   "source": [
    "review_texts = []\n",
    "review_labels = []\n",
    "\n",
    "THRESHOLD_WORDS = 60"
   ]
  },
  {
   "cell_type": "code",
   "execution_count": 13,
   "metadata": {},
   "outputs": [],
   "source": [
    "# considering only those reviews whose length <= (THRESHOLD_WORDS = 60)\n",
    "\n",
    "\n",
    "for idx, review in enumerate(reviews):\n",
    "    \n",
    "    if(len(review.split()) <= THRESHOLD_WORDS):\n",
    "        review_texts.append(review)\n",
    "        review_labels.append(labels[idx])\n",
    "        "
   ]
  },
  {
   "cell_type": "code",
   "execution_count": 14,
   "metadata": {},
   "outputs": [],
   "source": [
    "review_labels = np.array(review_labels)"
   ]
  },
  {
   "cell_type": "code",
   "execution_count": 15,
   "metadata": {},
   "outputs": [],
   "source": [
    "NEW_DATA_SIZE = review_labels.shape[0]"
   ]
  },
  {
   "cell_type": "code",
   "execution_count": 16,
   "metadata": {},
   "outputs": [],
   "source": [
    "# TRAIN - VALIDATION - TEST SPLIT\n",
    "\n",
    "TRAIN_RATIO = 0.6\n",
    "VAL_RATIO = 0.2\n",
    "TRAIN_INDEX = int(TRAIN_RATIO*NEW_DATA_SIZE)\n",
    "VAL_INDEX = TRAIN_INDEX + int(VAL_RATIO*NEW_DATA_SIZE)\n",
    "\n",
    "train_texts = review_texts[:TRAIN_INDEX]\n",
    "y_train = review_labels[:TRAIN_INDEX]\n",
    "\n",
    "val_texts = review_texts[TRAIN_INDEX:VAL_INDEX]\n",
    "y_val = review_labels[TRAIN_INDEX:VAL_INDEX]\n",
    "\n",
    "test_texts = review_texts[VAL_INDEX:]\n",
    "y_test = review_labels[VAL_INDEX:]\n"
   ]
  },
  {
   "cell_type": "code",
   "execution_count": 17,
   "metadata": {},
   "outputs": [
    {
     "name": "stdout",
     "output_type": "stream",
     "text": [
      "alltime favorite rice far favorite rice . delicious even without anything hard find store hope amazon keep stock . easy cook perfectly delicious even overcook bit .\n",
      "Label : 1.0\n"
     ]
    }
   ],
   "source": [
    "# Random review\n",
    "\n",
    "RAND_IDX = 78642\n",
    "print(train_texts[RAND_IDX])\n",
    "print(\"Label :\", y_train[RAND_IDX])"
   ]
  },
  {
   "cell_type": "code",
   "execution_count": 18,
   "metadata": {},
   "outputs": [],
   "source": [
    "# calculates median words per sample\n",
    "\n",
    "def get_num_words_per_sample(sample_texts):\n",
    "    \n",
    "    num_words = [len(s.split()) for s in sample_texts]\n",
    "    return np.median(num_words)"
   ]
  },
  {
   "cell_type": "code",
   "execution_count": 19,
   "metadata": {},
   "outputs": [
    {
     "name": "stdout",
     "output_type": "stream",
     "text": [
      "Total training examples : 259666\n",
      "Total validation examples : 86555\n",
      "Total test dataset  86557\n",
      "\n",
      "Total classes : 2\n",
      "\n",
      "Median words per sample in training data :  28.0\n",
      "Median words per sample in validation data :  28.0\n",
      "Median words per sample in test data :  28.0\n"
     ]
    }
   ],
   "source": [
    "# Facts about the dataset\n",
    "\n",
    "print(\"Total training examples :\", len(train_texts))\n",
    "print(\"Total validation examples :\", len(val_texts))\n",
    "print(\"Total test dataset \", len(test_texts))\n",
    "print(\"\\nTotal classes :\", 2)\n",
    "\n",
    "print(\"\\nMedian words per sample in training data : \", get_num_words_per_sample(train_texts))\n",
    "print(\"Median words per sample in validation data : \", get_num_words_per_sample(val_texts[2:9]))\n",
    "print(\"Median words per sample in test data : \", get_num_words_per_sample(test_texts)) "
   ]
  },
  {
   "cell_type": "code",
   "execution_count": 20,
   "metadata": {},
   "outputs": [
    {
     "data": {
      "image/png": "[encoded data removed]",
      "text/plain": [
       "<Figure size 720x720 with 1 Axes>"
      ]
     },
     "metadata": {
      "needs_background": "light"
     },
     "output_type": "display_data"
    }
   ],
   "source": [
    "# plot showing lengthwise distribution of reviews labels\n",
    "\n",
    "y = np.zeros((y_train.shape[0], 2))\n",
    "\n",
    "for idx, review in enumerate(train_texts):\n",
    "    l = len(review.split())\n",
    "  \n",
    "    if y_train[idx] == 1:\n",
    "        y[idx][1] = l\n",
    "    else: \n",
    "        y[idx][0] = l\n",
    "        \n",
    "mpl.rcParams['figure.figsize'] = (10,10)\n",
    "        \n",
    "plotlabels = [ 'Negative', 'Positive']\n",
    "color = ['red', 'green']    \n",
    "\n",
    "bins = [5*i for i in range(1,13)]\n",
    "\n",
    "plt.hist(y,bins = bins,label = plotlabels,color = color)\n",
    "plt.axis([0, 70, 0, 40000])\n",
    "\n",
    "plt.title('Reviews Labels Distribution')   \n",
    "plt.xlabel('Length of reviews')\n",
    "plt.ylabel('Number of reviews') \n",
    "\n",
    "plt.legend()\n",
    "plt.grid(True)\n",
    "plt.show()"
   ]
  },
  {
   "cell_type": "code",
   "execution_count": 21,
   "metadata": {},
   "outputs": [
    {
     "data": {
      "text/plain": [
       "<BarContainer object of 50 artists>"
      ]
     },
     "execution_count": 21,
     "metadata": {},
     "output_type": "execute_result"
    },
    {
     "data": {
      "image/png": "[encoded data removed]",
      "text/plain": [
       "<Figure size 1440x720 with 1 Axes>"
      ]
     },
     "metadata": {
      "needs_background": "light"
     },
     "output_type": "display_data"
    }
   ],
   "source": [
    "# tokenizing the reviews words\n",
    "\n",
    "tokenizer = Tokenizer()\n",
    "tokenizer.fit_on_texts(train_texts)\n",
    "\n",
    "MOST_K_FREQUENT = 100\n",
    "TOP_K_FREQUENT = 50\n",
    "\n",
    "def get_key(word_freq_pair):\n",
    "    word, freq = word_freq_pair\n",
    "    return freq\n",
    "    \n",
    "# MOST_K_FREQUENT WORDS\n",
    "frequent_words = sorted(list(tokenizer.word_counts.items()), key = get_key, reverse = True)[:MOST_K_FREQUENT]\n",
    "\n",
    "x = [i for i in range(MOST_K_FREQUENT)]\n",
    "x_words = []\n",
    "y_word_freq = []\n",
    "\n",
    "for word, count in frequent_words:\n",
    "    x_words.append(word)\n",
    "    y_word_freq.append(count)\n",
    "\n",
    "# plot showing most occuring words in the dataset    \n",
    "\n",
    "mpl.rcParams['figure.figsize'] = (20,10)\n",
    "\n",
    "plt.xticks(x, x_words)\n",
    "plt.xticks(rotation=60)\n",
    "\n",
    "plt.title(\"Most Frequent Words\")\n",
    "\n",
    "plt.bar(x[:TOP_K_FREQUENT], y_word_freq[:TOP_K_FREQUENT])"
   ]
  },
  {
   "cell_type": "code",
   "execution_count": 22,
   "metadata": {},
   "outputs": [
    {
     "data": {
      "image/png": "[encoded data removed]",
      "text/plain": [
       "<Figure size 720x720 with 1 Axes>"
      ]
     },
     "metadata": {
      "needs_background": "light"
     },
     "output_type": "display_data"
    }
   ],
   "source": [
    "# word cloud showing most occuring words in the dataset\n",
    "\n",
    "freq_dist = nltk.FreqDist(x_words)\n",
    "\n",
    "wordcloud = WordCloud().generate_from_frequencies(freq_dist)\n",
    "\n",
    "mpl.rcParams['figure.figsize'] = (10,10)\n",
    "\n",
    "plt.imshow(wordcloud)\n",
    "\n",
    "plt.axis(\"off\")\n",
    "plt.show()"
   ]
  },
  {
   "cell_type": "code",
   "execution_count": 23,
   "metadata": {},
   "outputs": [],
   "source": [
    "# Vectorization parameters\n",
    "# Limit on the number of features. We use the top 20K features.\n",
    "TOP_K = 20000\n",
    "\n",
    "# Limit on the length of text sequences. Sequences longer than this\n",
    "# will be truncated.\n",
    "MAX_SEQUENCE_LENGTH = THRESHOLD_WORDS\n",
    "\n",
    "# Create vocabulary with training texts.\n",
    "# By default, all punctuation is removed\n",
    "tokenizer = Tokenizer(num_words=TOP_K)\n",
    "tokenizer.fit_on_texts(train_texts)\n",
    "\n",
    "# Vectorize training and validation texts.\n",
    "x_train = tokenizer.texts_to_sequences(train_texts)\n",
    "x_val = tokenizer.texts_to_sequences(val_texts)\n",
    "x_test = tokenizer.texts_to_sequences(test_texts)\n",
    "\n",
    "# Fix sequence length to MAX_SEQUENCE_LENGTH. Sequences shorter than the length are\n",
    "# padded and sequences longer are truncated\n",
    "x_train = pad_sequences(x_train, maxlen=MAX_SEQUENCE_LENGTH, padding='post')\n",
    "x_val = pad_sequences(x_val, maxlen=MAX_SEQUENCE_LENGTH, padding='post')\n",
    "x_test = pad_sequences(x_test, maxlen=MAX_SEQUENCE_LENGTH, padding='post')\n",
    "    "
   ]
  },
  {
   "cell_type": "code",
   "execution_count": 25,
   "metadata": {},
   "outputs": [],
   "source": [
    "\n",
    "# creating dictionary of words containing corresponding word embeddings\n",
    "\n",
    "filename = \"C:\\\\Users\\\\nagma\\\\Downloads\\\\glove.6B.100d.txt\\\\glove.6B.100d.txt\"\n",
    "\n",
    "embeddings_index = {}\n",
    "\n",
    "f = open(filename,  encoding = \"utf-8\")\n",
    "\n",
    "for line in f:\n",
    "    values = line.split()\n",
    "    word = values[0]\n",
    "    coefs = np.asarray(values[1:])\n",
    "    embeddings_index[word] = coefs\n",
    "    \n",
    "f.close()\n"
   ]
  },
  {
   "cell_type": "code",
   "execution_count": 27,
   "metadata": {},
   "outputs": [],
   "source": [
    "\n",
    "# dimension of each word embedding\n",
    "EMBEDDING_DIM = 100\n",
    "\n",
    "# creating embedding matrix for directly feeding to Embedding() layer of Keras\n",
    "\n",
    "num_words = len(tokenizer.word_index)+1\n",
    "embedding_matrix = np.zeros((num_words, EMBEDDING_DIM))\n",
    "\n",
    "for word, i in tokenizer.word_index.items():\n",
    "    \n",
    "    if i > num_words:\n",
    "        continue\n",
    "        \n",
    "    embedding_vector = embeddings_index.get(word)\n",
    "    \n",
    "    if embedding_vector is not None:\n",
    "        embedding_matrix[i] = embedding_vector\n",
    "        "
   ]
  },
  {
   "cell_type": "code",
   "execution_count": 40,
   "metadata": {},
   "outputs": [],
   "source": [
    "# averages out embedding for each correspondong word in a review\n",
    "\n",
    "def average_embedding(x_data):\n",
    "    \n",
    "    average_embedding_matrix = np.zeros((x_data.shape[0], EMBEDDING_DIM))\n",
    "    \n",
    "    for idx, embedding_vector in enumerate(x_data):\n",
    "        \n",
    "        average_embedding_vector = np.zeros((EMBEDDING_DIM, ))\n",
    "        \n",
    "        for token_index in embedding_vector:\n",
    "            average_embedding_vector += embedding_matrix[token_index]\n",
    "        \n",
    "        average_embedding_vector /= len(embedding_vector)\n",
    "        average_embedding_matrix[idx] = average_embedding_vector\n",
    "        \n",
    "    return average_embedding_matrix"
   ]
  },
  {
   "cell_type": "code",
   "execution_count": 41,
   "metadata": {},
   "outputs": [],
   "source": [
    "x_avg_train = average_embedding(x_train)\n",
    "x_avg_val = average_embedding(x_val)\n",
    "x_avg_test = average_embedding(x_test)"
   ]
  },
  {
   "cell_type": "markdown",
   "metadata": {},
   "source": [
    "## Averaging Model"
   ]
  },
  {
   "cell_type": "code",
   "execution_count": 83,
   "metadata": {},
   "outputs": [
    {
     "name": "stdout",
     "output_type": "stream",
     "text": [
      "_________________________________________________________________\n",
      "Layer (type)                 Output Shape              Param #   \n",
      "=================================================================\n",
      "dense_21 (Dense)             (None, 250)               25250     \n",
      "_________________________________________________________________\n",
      "dropout_3 (Dropout)          (None, 250)               0         \n",
      "_________________________________________________________________\n",
      "dense_22 (Dense)             (None, 100)               25100     \n",
      "_________________________________________________________________\n",
      "dropout_4 (Dropout)          (None, 100)               0         \n",
      "_________________________________________________________________\n",
      "dense_23 (Dense)             (None, 1)                 101       \n",
      "=================================================================\n",
      "Total params: 50,451\n",
      "Trainable params: 50,451\n",
      "Non-trainable params: 0\n",
      "_________________________________________________________________\n"
     ]
    }
   ],
   "source": [
    "model_avg_embedding = Sequential()\n",
    "\n",
    "model_avg_embedding.add(Dense(250, input_shape=(EMBEDDING_DIM, ), activation='relu'))\n",
    "model_avg_embedding.add(Dropout(0.3))\n",
    "\n",
    "model_avg_embedding.add(Dense(100, activation='relu'))\n",
    "model_avg_embedding.add(Dropout(0.4))\n",
    "\n",
    "model_avg_embedding.add(Dense(1, activation='sigmoid'))\n",
    "\n",
    "optimizer = Adam(lr=1e-3, beta_1=0.9, beta_2=0.999, epsilon=1e-08, decay=0.0, amsgrad=False)\n",
    "\n",
    "model_avg_embedding.compile(loss='binary_crossentropy', optimizer=optimizer, metrics=['accuracy'])\n",
    "model_avg_embedding.summary()"
   ]
  },
  {
   "cell_type": "code",
   "execution_count": 84,
   "metadata": {},
   "outputs": [
    {
     "name": "stdout",
     "output_type": "stream",
     "text": [
      "Train on 259666 samples, validate on 86555 samples\n",
      "Epoch 1/100\n",
      "259666/259666 [==============================] - 38s 147us/step - loss: 0.3312 - acc: 0.8574 - val_loss: 0.3088 - val_acc: 0.8668\n",
      "Epoch 2/100\n",
      "259666/259666 [==============================] - 36s 139us/step - loss: 0.3130 - acc: 0.8661 - val_loss: 0.3004 - val_acc: 0.8704\n",
      "Epoch 3/100\n",
      "259666/259666 [==============================] - 37s 141us/step - loss: 0.3065 - acc: 0.8689 - val_loss: 0.2989 - val_acc: 0.8727\n",
      "Epoch 4/100\n",
      "259666/259666 [==============================] - 37s 142us/step - loss: 0.3023 - acc: 0.8710 - val_loss: 0.2934 - val_acc: 0.8746\n",
      "Epoch 5/100\n",
      "259666/259666 [==============================] - 50s 193us/step - loss: 0.2987 - acc: 0.8736 - val_loss: 0.2910 - val_acc: 0.8763\n",
      "Epoch 6/100\n",
      "259666/259666 [==============================] - 37s 142us/step - loss: 0.2954 - acc: 0.8741 - val_loss: 0.2972 - val_acc: 0.8745\n",
      "Epoch 7/100\n",
      "259666/259666 [==============================] - 35s 137us/step - loss: 0.2929 - acc: 0.8762 - val_loss: 0.2873 - val_acc: 0.8772\n",
      "Epoch 8/100\n",
      "259666/259666 [==============================] - 43s 164us/step - loss: 0.2913 - acc: 0.8768 - val_loss: 0.2842 - val_acc: 0.8787\n",
      "Epoch 9/100\n",
      "259666/259666 [==============================] - 47s 181us/step - loss: 0.2886 - acc: 0.8774 - val_loss: 0.2847 - val_acc: 0.8787\n",
      "Epoch 10/100\n",
      "259666/259666 [==============================] - 45s 172us/step - loss: 0.2874 - acc: 0.8784 - val_loss: 0.2800 - val_acc: 0.8806\n",
      "Epoch 11/100\n",
      "259666/259666 [==============================] - 46s 177us/step - loss: 0.2854 - acc: 0.8791 - val_loss: 0.2808 - val_acc: 0.8804\n",
      "Epoch 12/100\n",
      "259666/259666 [==============================] - 50s 194us/step - loss: 0.2840 - acc: 0.8802 - val_loss: 0.2800 - val_acc: 0.8815\n",
      "Epoch 13/100\n",
      "259666/259666 [==============================] - 48s 187us/step - loss: 0.2817 - acc: 0.8810 - val_loss: 0.2818 - val_acc: 0.8791\n",
      "Epoch 14/100\n",
      "259666/259666 [==============================] - 45s 174us/step - loss: 0.2804 - acc: 0.8817 - val_loss: 0.2767 - val_acc: 0.8832\n",
      "Epoch 15/100\n",
      "259666/259666 [==============================] - 46s 178us/step - loss: 0.2786 - acc: 0.8824 - val_loss: 0.2758 - val_acc: 0.8828\n",
      "Epoch 16/100\n",
      "259666/259666 [==============================] - 42s 161us/step - loss: 0.2773 - acc: 0.8830 - val_loss: 0.2755 - val_acc: 0.8823\n",
      "Epoch 17/100\n",
      "259666/259666 [==============================] - 51s 195us/step - loss: 0.2759 - acc: 0.8839 - val_loss: 0.2758 - val_acc: 0.8837\n",
      "Epoch 18/100\n",
      "259666/259666 [==============================] - 40s 155us/step - loss: 0.2743 - acc: 0.8843 - val_loss: 0.2844 - val_acc: 0.8799\n",
      "Epoch 19/100\n",
      "259666/259666 [==============================] - 44s 169us/step - loss: 0.2738 - acc: 0.8844 - val_loss: 0.2733 - val_acc: 0.8836\n",
      "Epoch 20/100\n",
      "259666/259666 [==============================] - 36s 139us/step - loss: 0.2726 - acc: 0.8852 - val_loss: 0.2753 - val_acc: 0.8830\n",
      "Epoch 21/100\n",
      "259666/259666 [==============================] - 45s 174us/step - loss: 0.2714 - acc: 0.8862 - val_loss: 0.2748 - val_acc: 0.8846\n",
      "Epoch 22/100\n",
      "259666/259666 [==============================] - 47s 180us/step - loss: 0.2699 - acc: 0.8862 - val_loss: 0.2717 - val_acc: 0.8867\n",
      "Epoch 23/100\n",
      "259666/259666 [==============================] - 54s 210us/step - loss: 0.2693 - acc: 0.8869 - val_loss: 0.2718 - val_acc: 0.8864\n",
      "Epoch 24/100\n",
      "259666/259666 [==============================] - 42s 161us/step - loss: 0.2684 - acc: 0.8878 - val_loss: 0.2732 - val_acc: 0.8851\n",
      "Epoch 25/100\n",
      "259666/259666 [==============================] - 37s 143us/step - loss: 0.2671 - acc: 0.8877 - val_loss: 0.2688 - val_acc: 0.8874\n",
      "Epoch 26/100\n",
      "259666/259666 [==============================] - 34s 131us/step - loss: 0.2669 - acc: 0.8882 - val_loss: 0.2701 - val_acc: 0.8868\n",
      "Epoch 27/100\n",
      "259666/259666 [==============================] - 35s 134us/step - loss: 0.2653 - acc: 0.8886 - val_loss: 0.2683 - val_acc: 0.8892\n",
      "Epoch 28/100\n",
      "259666/259666 [==============================] - 33s 126us/step - loss: 0.2649 - acc: 0.8889 - val_loss: 0.2702 - val_acc: 0.8881\n",
      "Epoch 29/100\n",
      "259666/259666 [==============================] - 36s 139us/step - loss: 0.2635 - acc: 0.8898 - val_loss: 0.2688 - val_acc: 0.8878\n",
      "Epoch 30/100\n",
      "259666/259666 [==============================] - 35s 134us/step - loss: 0.2637 - acc: 0.8894 - val_loss: 0.2696 - val_acc: 0.8875\n",
      "Epoch 31/100\n",
      "259666/259666 [==============================] - 35s 135us/step - loss: 0.2624 - acc: 0.8903 - val_loss: 0.2665 - val_acc: 0.8899\n",
      "Epoch 32/100\n",
      "259666/259666 [==============================] - 34s 130us/step - loss: 0.2621 - acc: 0.8900 - val_loss: 0.2695 - val_acc: 0.8892\n",
      "Epoch 33/100\n",
      "259666/259666 [==============================] - 35s 134us/step - loss: 0.2610 - acc: 0.8910 - val_loss: 0.2679 - val_acc: 0.8892\n",
      "Epoch 34/100\n",
      "259666/259666 [==============================] - 35s 133us/step - loss: 0.2596 - acc: 0.8917 - val_loss: 0.2698 - val_acc: 0.8893\n",
      "Epoch 35/100\n",
      "259666/259666 [==============================] - 35s 133us/step - loss: 0.2594 - acc: 0.8911 - val_loss: 0.2686 - val_acc: 0.8901\n",
      "Epoch 36/100\n",
      "259666/259666 [==============================] - 36s 138us/step - loss: 0.2595 - acc: 0.8914 - val_loss: 0.2662 - val_acc: 0.8903\n",
      "Epoch 37/100\n",
      "259666/259666 [==============================] - 35s 134us/step - loss: 0.2587 - acc: 0.8916 - val_loss: 0.2644 - val_acc: 0.8916\n",
      "Epoch 38/100\n",
      "259666/259666 [==============================] - 32s 122us/step - loss: 0.2578 - acc: 0.8923 - val_loss: 0.2671 - val_acc: 0.8901\n",
      "Epoch 39/100\n",
      "259666/259666 [==============================] - 40s 153us/step - loss: 0.2568 - acc: 0.8925 - val_loss: 0.2661 - val_acc: 0.8896\n",
      "Epoch 40/100\n",
      "259666/259666 [==============================] - 39s 150us/step - loss: 0.2563 - acc: 0.8933 - val_loss: 0.2676 - val_acc: 0.8905\n",
      "Epoch 41/100\n",
      "259666/259666 [==============================] - 40s 155us/step - loss: 0.2560 - acc: 0.8928 - val_loss: 0.2642 - val_acc: 0.8913\n",
      "Epoch 42/100\n",
      "259666/259666 [==============================] - 44s 170us/step - loss: 0.2560 - acc: 0.8929 - val_loss: 0.2661 - val_acc: 0.8902\n",
      "Epoch 43/100\n",
      "259666/259666 [==============================] - 37s 144us/step - loss: 0.2542 - acc: 0.8940 - val_loss: 0.2652 - val_acc: 0.8904\n",
      "Epoch 44/100\n",
      "259666/259666 [==============================] - 39s 151us/step - loss: 0.2543 - acc: 0.8936 - val_loss: 0.2658 - val_acc: 0.8911\n",
      "Epoch 45/100\n",
      "259666/259666 [==============================] - 38s 145us/step - loss: 0.2544 - acc: 0.8942 - val_loss: 0.2647 - val_acc: 0.8920\n",
      "Epoch 46/100\n",
      "259666/259666 [==============================] - 37s 143us/step - loss: 0.2531 - acc: 0.8943 - val_loss: 0.2668 - val_acc: 0.8912\n",
      "Epoch 47/100\n",
      "259666/259666 [==============================] - 38s 145us/step - loss: 0.2536 - acc: 0.8944 - val_loss: 0.2659 - val_acc: 0.8896\n",
      "Epoch 48/100\n",
      "259666/259666 [==============================] - 35s 134us/step - loss: 0.2523 - acc: 0.8949 - val_loss: 0.2661 - val_acc: 0.8915\n",
      "Epoch 49/100\n",
      "259666/259666 [==============================] - 38s 145us/step - loss: 0.2514 - acc: 0.8952 - val_loss: 0.2688 - val_acc: 0.8907\n",
      "Epoch 50/100\n",
      "259666/259666 [==============================] - 40s 155us/step - loss: 0.2513 - acc: 0.8950 - val_loss: 0.2632 - val_acc: 0.8922\n",
      "Epoch 51/100\n",
      "259666/259666 [==============================] - 37s 142us/step - loss: 0.2518 - acc: 0.8953 - val_loss: 0.2645 - val_acc: 0.8930\n",
      "Epoch 52/100\n",
      "259666/259666 [==============================] - 37s 144us/step - loss: 0.2513 - acc: 0.8954 - val_loss: 0.2650 - val_acc: 0.8915\n",
      "Epoch 53/100\n",
      "259666/259666 [==============================] - 43s 165us/step - loss: 0.2500 - acc: 0.8959 - val_loss: 0.2633 - val_acc: 0.8925\n",
      "Epoch 54/100\n",
      "259666/259666 [==============================] - 42s 161us/step - loss: 0.2503 - acc: 0.8962 - val_loss: 0.2642 - val_acc: 0.8927\n",
      "Epoch 55/100\n",
      "259666/259666 [==============================] - 37s 142us/step - loss: 0.2494 - acc: 0.8962 - val_loss: 0.2680 - val_acc: 0.8928\n",
      "Epoch 56/100\n",
      "259666/259666 [==============================] - 37s 141us/step - loss: 0.2492 - acc: 0.8969 - val_loss: 0.2664 - val_acc: 0.8916\n",
      "Epoch 57/100\n",
      "259666/259666 [==============================] - 41s 156us/step - loss: 0.2494 - acc: 0.8964 - val_loss: 0.2648 - val_acc: 0.8936\n"
     ]
    },
    {
     "name": "stdout",
     "output_type": "stream",
     "text": [
      "Epoch 58/100\n",
      "259666/259666 [==============================] - 40s 152us/step - loss: 0.2484 - acc: 0.8968 - val_loss: 0.2668 - val_acc: 0.8936\n",
      "Epoch 59/100\n",
      "259666/259666 [==============================] - 42s 161us/step - loss: 0.2481 - acc: 0.8973 - val_loss: 0.2637 - val_acc: 0.8932\n",
      "Epoch 60/100\n",
      "259666/259666 [==============================] - 36s 138us/step - loss: 0.2473 - acc: 0.8967 - val_loss: 0.2671 - val_acc: 0.8916\n",
      "Epoch 61/100\n",
      "259666/259666 [==============================] - 33s 129us/step - loss: 0.2472 - acc: 0.8976 - val_loss: 0.2629 - val_acc: 0.8948\n",
      "Epoch 62/100\n",
      "259666/259666 [==============================] - 35s 134us/step - loss: 0.2471 - acc: 0.8974 - val_loss: 0.2643 - val_acc: 0.8908\n",
      "Epoch 63/100\n",
      "259666/259666 [==============================] - 32s 124us/step - loss: 0.2458 - acc: 0.8978 - val_loss: 0.2628 - val_acc: 0.8934\n",
      "Epoch 64/100\n",
      "259666/259666 [==============================] - 36s 137us/step - loss: 0.2463 - acc: 0.8975 - val_loss: 0.2675 - val_acc: 0.8927\n",
      "Epoch 65/100\n",
      "259666/259666 [==============================] - 34s 129us/step - loss: 0.2462 - acc: 0.8979 - val_loss: 0.2637 - val_acc: 0.8930\n",
      "Epoch 66/100\n",
      "259666/259666 [==============================] - 33s 126us/step - loss: 0.2453 - acc: 0.8977 - val_loss: 0.2703 - val_acc: 0.8905\n",
      "Epoch 67/100\n",
      "259666/259666 [==============================] - 32s 122us/step - loss: 0.2451 - acc: 0.8978 - val_loss: 0.2667 - val_acc: 0.8945\n",
      "Epoch 68/100\n",
      "259666/259666 [==============================] - 31s 120us/step - loss: 0.2454 - acc: 0.8976 - val_loss: 0.2622 - val_acc: 0.8953\n",
      "Epoch 69/100\n",
      "259666/259666 [==============================] - 31s 119us/step - loss: 0.2448 - acc: 0.8978 - val_loss: 0.2649 - val_acc: 0.8925\n",
      "Epoch 70/100\n",
      "259666/259666 [==============================] - 32s 123us/step - loss: 0.2445 - acc: 0.8984 - val_loss: 0.2648 - val_acc: 0.8936\n",
      "Epoch 71/100\n",
      "259666/259666 [==============================] - 32s 122us/step - loss: 0.2442 - acc: 0.8985 - val_loss: 0.2656 - val_acc: 0.8939\n",
      "Epoch 72/100\n",
      "259666/259666 [==============================] - 32s 123us/step - loss: 0.2438 - acc: 0.8989 - val_loss: 0.2682 - val_acc: 0.8925\n",
      "Epoch 73/100\n",
      "259666/259666 [==============================] - 32s 122us/step - loss: 0.2434 - acc: 0.8988 - val_loss: 0.2657 - val_acc: 0.8930\n",
      "Epoch 74/100\n",
      "259666/259666 [==============================] - 34s 131us/step - loss: 0.2426 - acc: 0.8994 - val_loss: 0.2729 - val_acc: 0.8907\n",
      "Epoch 75/100\n",
      "259666/259666 [==============================] - 37s 141us/step - loss: 0.2423 - acc: 0.8991 - val_loss: 0.2641 - val_acc: 0.8940\n",
      "Epoch 76/100\n",
      "259666/259666 [==============================] - 31s 121us/step - loss: 0.2419 - acc: 0.8993 - val_loss: 0.2663 - val_acc: 0.8933\n",
      "Epoch 77/100\n",
      "259666/259666 [==============================] - 29s 112us/step - loss: 0.2418 - acc: 0.8995 - val_loss: 0.2665 - val_acc: 0.8942\n",
      "Epoch 78/100\n",
      "259666/259666 [==============================] - 29s 111us/step - loss: 0.2421 - acc: 0.8998 - val_loss: 0.2669 - val_acc: 0.8942\n",
      "Epoch 79/100\n",
      "259666/259666 [==============================] - 30s 116us/step - loss: 0.2419 - acc: 0.8991 - val_loss: 0.2646 - val_acc: 0.8929\n",
      "Epoch 80/100\n",
      "259666/259666 [==============================] - 29s 110us/step - loss: 0.2413 - acc: 0.8996 - val_loss: 0.2661 - val_acc: 0.8945\n",
      "Epoch 81/100\n",
      "259666/259666 [==============================] - 33s 127us/step - loss: 0.2411 - acc: 0.9002 - val_loss: 0.2642 - val_acc: 0.8932\n",
      "Epoch 82/100\n",
      "259666/259666 [==============================] - 34s 130us/step - loss: 0.2409 - acc: 0.9004 - val_loss: 0.2636 - val_acc: 0.8942\n",
      "Epoch 83/100\n",
      "259666/259666 [==============================] - 34s 131us/step - loss: 0.2404 - acc: 0.9008 - val_loss: 0.2626 - val_acc: 0.8953\n",
      "Epoch 84/100\n",
      "259666/259666 [==============================] - 37s 144us/step - loss: 0.2399 - acc: 0.9001 - val_loss: 0.2650 - val_acc: 0.8931\n",
      "Epoch 85/100\n",
      "259666/259666 [==============================] - 35s 134us/step - loss: 0.2397 - acc: 0.9007 - val_loss: 0.2689 - val_acc: 0.8929\n",
      "Epoch 86/100\n",
      "259666/259666 [==============================] - 34s 133us/step - loss: 0.2394 - acc: 0.9001 - val_loss: 0.2635 - val_acc: 0.8937\n",
      "Epoch 87/100\n",
      "259666/259666 [==============================] - 34s 129us/step - loss: 0.2391 - acc: 0.9005 - val_loss: 0.2659 - val_acc: 0.8944\n",
      "Epoch 88/100\n",
      "259666/259666 [==============================] - 33s 126us/step - loss: 0.2393 - acc: 0.9006 - val_loss: 0.2656 - val_acc: 0.8948\n",
      "Epoch 89/100\n",
      "259666/259666 [==============================] - 32s 123us/step - loss: 0.2391 - acc: 0.9010 - val_loss: 0.2651 - val_acc: 0.8931\n",
      "Epoch 90/100\n",
      "259666/259666 [==============================] - 32s 123us/step - loss: 0.2390 - acc: 0.9013 - val_loss: 0.2631 - val_acc: 0.8946\n",
      "Epoch 91/100\n",
      "259666/259666 [==============================] - 32s 123us/step - loss: 0.2392 - acc: 0.9006 - val_loss: 0.2645 - val_acc: 0.8950\n",
      "Epoch 92/100\n",
      "259666/259666 [==============================] - 32s 122us/step - loss: 0.2388 - acc: 0.9012 - val_loss: 0.2670 - val_acc: 0.8941\n",
      "Epoch 93/100\n",
      "259666/259666 [==============================] - 32s 122us/step - loss: 0.2384 - acc: 0.9014 - val_loss: 0.2649 - val_acc: 0.8920\n",
      "Epoch 94/100\n",
      "259666/259666 [==============================] - 40s 153us/step - loss: 0.2384 - acc: 0.9009 - val_loss: 0.2693 - val_acc: 0.8928\n",
      "Epoch 95/100\n",
      "259666/259666 [==============================] - 48s 185us/step - loss: 0.2379 - acc: 0.9013 - val_loss: 0.2681 - val_acc: 0.8936\n",
      "Epoch 96/100\n",
      "259666/259666 [==============================] - 46s 178us/step - loss: 0.2375 - acc: 0.9015 - val_loss: 0.2640 - val_acc: 0.8938\n",
      "Epoch 97/100\n",
      "259666/259666 [==============================] - 37s 143us/step - loss: 0.2378 - acc: 0.9012 - val_loss: 0.2687 - val_acc: 0.8924\n",
      "Epoch 98/100\n",
      "259666/259666 [==============================] - 35s 134us/step - loss: 0.2371 - acc: 0.9014 - val_loss: 0.2637 - val_acc: 0.8947\n",
      "Epoch 99/100\n",
      "259666/259666 [==============================] - 35s 135us/step - loss: 0.2366 - acc: 0.9022 - val_loss: 0.2658 - val_acc: 0.8955\n",
      "Epoch 100/100\n",
      "259666/259666 [==============================] - 36s 137us/step - loss: 0.2361 - acc: 0.9027 - val_loss: 0.2695 - val_acc: 0.8942\n"
     ]
    }
   ],
   "source": [
    "\n",
    "#training the model\n",
    "model_avg_embedding_history = model_avg_embedding.fit(x_avg_train, y_train, batch_size=32, epochs=100, validation_data=(x_avg_val, y_val))\n"
   ]
  },
  {
   "cell_type": "markdown",
   "metadata": {},
   "source": [
    "## Training accuracy - 90.27%\n",
    "## Validation Accuracy - 89.42%"
   ]
  },
  {
   "cell_type": "code",
   "execution_count": 85,
   "metadata": {},
   "outputs": [],
   "source": [
    "# model history parameters\n",
    "history = model_avg_embedding_history.history\n",
    "\n",
    "train_accuracy = history['acc']\n",
    "train_loss = history['loss']\n",
    "\n",
    "val_accuracy = history['val_acc']\n",
    "val_loss = history['val_loss']\n",
    "\n",
    "epochs = range(1, len(train_accuracy) + 1)"
   ]
  },
  {
   "cell_type": "code",
   "execution_count": 86,
   "metadata": {},
   "outputs": [
    {
     "data": {
      "image/png": "[encoded data removed]",
      "text/plain": [
       "<Figure size 720x360 with 1 Axes>"
      ]
     },
     "metadata": {
      "needs_background": "light"
     },
     "output_type": "display_data"
    }
   ],
   "source": [
    "# plot showing training and validation losses\n",
    "\n",
    "mpl.rcParams['figure.figsize'] = (10, 5)\n",
    "\n",
    "plt.plot(epochs, train_loss, 'g', label='Training Loss')\n",
    "plt.plot(epochs, val_loss, 'b', label='Validation Loss')\n",
    "\n",
    "plt.title('Training and Validation Loss')\n",
    "plt.xlabel('Epochs')\n",
    "plt.ylabel('Loss')\n",
    "\n",
    "plt.legend()\n",
    "plt.show()"
   ]
  },
  {
   "cell_type": "code",
   "execution_count": 87,
   "metadata": {},
   "outputs": [
    {
     "data": {
      "image/png": "[encoded data removed]",
      "text/plain": [
       "<Figure size 720x360 with 1 Axes>"
      ]
     },
     "metadata": {
      "needs_background": "light"
     },
     "output_type": "display_data"
    }
   ],
   "source": [
    "# plot showing training and validation accuracy\n",
    "\n",
    "plt.plot(epochs, train_accuracy, 'g', label='Training Accuracy')\n",
    "plt.plot(epochs, val_accuracy, 'b', label='Validation Accuracy')\n",
    "\n",
    "plt.title('Training and Validation Accuracy')\n",
    "plt.xlabel('Epochs')\n",
    "plt.ylabel('Accuracy')\n",
    "\n",
    "plt.legend()\n",
    "plt.show()"
   ]
  },
  {
   "cell_type": "code",
   "execution_count": 88,
   "metadata": {},
   "outputs": [
    {
     "name": "stdout",
     "output_type": "stream",
     "text": [
      "86557/86557 [==============================] - 3s 36us/step\n"
     ]
    },
    {
     "data": {
      "text/plain": [
       "[0.2669485517337078, 0.8937694236243822]"
      ]
     },
     "execution_count": 88,
     "metadata": {},
     "output_type": "execute_result"
    }
   ],
   "source": [
    "# evaluating the model on test dataset\n",
    "model_avg_embedding.evaluate(x_avg_test, y_test)"
   ]
  },
  {
   "cell_type": "markdown",
   "metadata": {},
   "source": [
    "## Test accuracy - 89.38%"
   ]
  },
  {
   "cell_type": "code",
   "execution_count": 90,
   "metadata": {},
   "outputs": [
    {
     "name": "stdout",
     "output_type": "stream",
     "text": [
      "The taste of the biscuits was quite spectacular. It seemed as if it was taken straight from heaven 1. Positive with 97.94% surity\n",
      "Peanuts were too salty according to my taste 2. Positive with 80.16% surity\n",
      "If you are looking for a secret ingredient, go for it 3. Positive with 92.07% surity\n",
      "I am disappointed with the rice 4. Positive with 98.88% surity\n",
      "I am not disappointed with the rice 5. Negative with 82.43% surity\n",
      "When i first bought this, i was confused about its quality and taste. But after eating this, my children fell in love with me. Thanks!! 6. Positive with 96.12% surity\n",
      "I'm not really a tea drinker but my husband is and he loves this tea. So on his behalf I'm recommending it. Just go on with my hubby's recommendation. 7. Positive with 99.90% surity\n"
     ]
    }
   ],
   "source": [
    "# custom test samples\n",
    "\n",
    "samples = [\n",
    "           \"The taste of the biscuits was quite spectacular. It seemed as if it was taken straight from heaven\",\n",
    "           \"Peanuts were too salty according to my taste\",\n",
    "            \"If you are looking for a secret ingredient, go for it\",\n",
    "            \"I am disappointed with the rice\",\n",
    "            \"I am not disappointed with the rice\",\n",
    "            \"When i first bought this, i was confused about its quality and taste. But after eating this, my children fell in love with me. Thanks!!\",\n",
    "            \"I'm not really a tea drinker but my husband is and he loves this tea. So on his behalf I'm recommending it. Just go on with my hubby's recommendation.\"\n",
    "          ]\n",
    "\n",
    "processed_samples = []\n",
    "for sample in samples:\n",
    "    processed_samples.append(preprocess_text(sample))\n",
    "\n",
    "vectorized_samples = tokenizer.texts_to_sequences(processed_samples)\n",
    "vectorized_samples = pad_sequences(vectorized_samples, maxlen=MAX_SEQUENCE_LENGTH, padding='post')\n",
    "vectorized_avg_samples = average_embedding(vectorized_samples)\n",
    "\n",
    "predictions = model_avg_embedding.predict(vectorized_avg_samples)\n",
    "\n",
    "THRESHOLD_PREDICTION = 0.6\n",
    "\n",
    "for idx, pred in enumerate(predictions):\n",
    "    if(pred > THRESHOLD_PREDICTION):\n",
    "        print(samples[idx], \"{}. Positive with {:.2f}% surity\".format(idx+1, pred[0]*100))\n",
    "    else:\n",
    "        print(samples[idx], \"{}. Negative with {:.2f}% surity\".format(idx+1, 100-pred[0]*100))\n"
   ]
  },
  {
   "cell_type": "markdown",
   "metadata": {},
   "source": [
    "The 2nd example is wrongly classified.\n",
    "\n",
    "The 4th example is also wrongly classified. The 5th example is different from 4th one just because it has an extra \"not\" in it. \n",
    "\n",
    "The averaging model is considering \"not\" to be a negative word and increasing the polarity of sentence in the favor of negative, although the overall polarity should be positive as the customer is \"not disappointed\". \n",
    "\n",
    "The issue here with this model is not only the wrong classification but also that the addition of negative word such as \"not\" is making the sentence more negative without even considering its effect to the review. \n",
    "\n",
    "This is the problem with averaging the embeddings. In addition to low test accuracy (as compared to other models), it is also not taking into account the position of negative/positive words whose placement at any given location in a sentence can change the entire meaning or polarity of it."
   ]
  },
  {
   "cell_type": "code",
   "execution_count": 94,
   "metadata": {},
   "outputs": [],
   "source": [
    "# saving the averaging model\n",
    "\n",
    "model_avg_embedding.save(\"avg_embedding_model.h5\")\n"
   ]
  },
  {
   "cell_type": "markdown",
   "metadata": {},
   "source": [
    "## Now using LSTM Model with pre-trained glove embeddings"
   ]
  },
  {
   "cell_type": "code",
   "execution_count": 96,
   "metadata": {},
   "outputs": [
    {
     "name": "stdout",
     "output_type": "stream",
     "text": [
      "_________________________________________________________________\n",
      "Layer (type)                 Output Shape              Param #   \n",
      "=================================================================\n",
      "embedding_2 (Embedding)      (None, 60, 100)           9473400   \n",
      "_________________________________________________________________\n",
      "dropout_7 (Dropout)          (None, 60, 100)           0         \n",
      "_________________________________________________________________\n",
      "conv1d_2 (Conv1D)            (None, 56, 64)            32064     \n",
      "_________________________________________________________________\n",
      "max_pooling1d_2 (MaxPooling1 (None, 14, 64)            0         \n",
      "_________________________________________________________________\n",
      "lstm_2 (LSTM)                (None, 100)               66000     \n",
      "_________________________________________________________________\n",
      "dropout_8 (Dropout)          (None, 100)               0         \n",
      "_________________________________________________________________\n",
      "dense_25 (Dense)             (None, 1)                 101       \n",
      "=================================================================\n",
      "Total params: 9,571,565\n",
      "Trainable params: 98,165\n",
      "Non-trainable params: 9,473,400\n",
      "_________________________________________________________________\n"
     ]
    }
   ],
   "source": [
    "\n",
    "model_pretrained_glove = Sequential()\n",
    "\n",
    "embedding_layer = Embedding(len(tokenizer.word_index)+1,\n",
    "                            EMBEDDING_DIM,\n",
    "                            embeddings_initializer=Constant(embedding_matrix),\n",
    "                            input_length=MAX_SEQUENCE_LENGTH,\n",
    "                            trainable=False)\n",
    "model_pretrained_glove.add(embedding_layer)\n",
    "model_pretrained_glove.add(Dropout(0.3))\n",
    "\n",
    "model_pretrained_glove.add(Conv1D(64, 5, activation='relu'))\n",
    "model_pretrained_glove.add(MaxPooling1D(pool_size=4))\n",
    "\n",
    "model_pretrained_glove.add(LSTM(100))\n",
    "model_pretrained_glove.add(Dropout(0.4))\n",
    "\n",
    "model_pretrained_glove.add(Dense(1, activation='sigmoid'))\n",
    "\n",
    "optimizer = Adam(lr=1e-3, beta_1=0.9, beta_2=0.999, epsilon=1e-08, decay=0.0, amsgrad=False)\n",
    "\n",
    "model_pretrained_glove.compile(loss='binary_crossentropy', optimizer=optimizer, metrics=['accuracy'])\n",
    "model_pretrained_glove.summary()"
   ]
  },
  {
   "cell_type": "code",
   "execution_count": 97,
   "metadata": {},
   "outputs": [
    {
     "name": "stdout",
     "output_type": "stream",
     "text": [
      "Train on 259666 samples, validate on 86555 samples\n",
      "Epoch 1/10\n",
      "259666/259666 [==============================] - 354s 1ms/step - loss: 0.2729 - acc: 0.8881 - val_loss: 0.2068 - val_acc: 0.9186\n",
      "Epoch 2/10\n",
      "259666/259666 [==============================] - 336s 1ms/step - loss: 0.2259 - acc: 0.9096 - val_loss: 0.1970 - val_acc: 0.9236\n",
      "Epoch 3/10\n",
      "259666/259666 [==============================] - 337s 1ms/step - loss: 0.2107 - acc: 0.9160 - val_loss: 0.1880 - val_acc: 0.9273\n",
      "Epoch 4/10\n",
      "259666/259666 [==============================] - 335s 1ms/step - loss: 0.2018 - acc: 0.9200 - val_loss: 0.1825 - val_acc: 0.9283\n",
      "Epoch 5/10\n",
      "259666/259666 [==============================] - 336s 1ms/step - loss: 0.1955 - acc: 0.9228 - val_loss: 0.1818 - val_acc: 0.9288\n",
      "Epoch 6/10\n",
      "259666/259666 [==============================] - 348s 1ms/step - loss: 0.1905 - acc: 0.9249 - val_loss: 0.1780 - val_acc: 0.9317\n",
      "Epoch 7/10\n",
      "259666/259666 [==============================] - 330s 1ms/step - loss: 0.1877 - acc: 0.9256 - val_loss: 0.1737 - val_acc: 0.9331\n",
      "Epoch 8/10\n",
      "259666/259666 [==============================] - 375s 1ms/step - loss: 0.1853 - acc: 0.9268 - val_loss: 0.1721 - val_acc: 0.9332\n",
      "Epoch 9/10\n",
      "259666/259666 [==============================] - 376s 1ms/step - loss: 0.1830 - acc: 0.9274 - val_loss: 0.1702 - val_acc: 0.9339\n",
      "Epoch 10/10\n",
      "259666/259666 [==============================] - 387s 1ms/step - loss: 0.1802 - acc: 0.9292 - val_loss: 0.1713 - val_acc: 0.9338\n"
     ]
    }
   ],
   "source": [
    "\n",
    "# training the model\n",
    "model_pretrained_glove_history = model_pretrained_glove.fit(x_train, y_train, batch_size=32, epochs=10, validation_data=(x_val, y_val))\n"
   ]
  },
  {
   "cell_type": "markdown",
   "metadata": {},
   "source": [
    "## Training accuracy - 92.92 %\n",
    "## Validation Accuracy - 93.38 %"
   ]
  },
  {
   "cell_type": "code",
   "execution_count": 98,
   "metadata": {},
   "outputs": [],
   "source": [
    "# model history parameters\n",
    "\n",
    "history = model_pretrained_glove_history.history\n",
    "\n",
    "train_accuracy = history['acc']\n",
    "train_loss = history['loss']\n",
    "\n",
    "val_accuracy = history['val_acc']\n",
    "val_loss = history['val_loss']\n",
    "\n",
    "epochs = range(1, len(train_accuracy) + 1)"
   ]
  },
  {
   "cell_type": "code",
   "execution_count": 99,
   "metadata": {},
   "outputs": [
    {
     "data": {
      "image/png": "[encoded data removed]",
      "text/plain": [
       "<Figure size 720x360 with 1 Axes>"
      ]
     },
     "metadata": {
      "needs_background": "light"
     },
     "output_type": "display_data"
    }
   ],
   "source": [
    "# plot showing training and validation losses\n",
    "\n",
    "mpl.rcParams['figure.figsize'] = (10, 5)\n",
    "\n",
    "plt.plot(epochs, train_loss, 'g', label='Training Loss')\n",
    "plt.plot(epochs, val_loss, 'b', label='Validation Loss')\n",
    "\n",
    "plt.title('Training and Validation Loss')\n",
    "plt.xlabel('Epochs')\n",
    "plt.ylabel('Loss')\n",
    "\n",
    "plt.legend()\n",
    "plt.show()"
   ]
  },
  {
   "cell_type": "code",
   "execution_count": 100,
   "metadata": {},
   "outputs": [
    {
     "data": {
      "image/png": "[encoded data removed]",
      "text/plain": [
       "<Figure size 720x360 with 1 Axes>"
      ]
     },
     "metadata": {
      "needs_background": "light"
     },
     "output_type": "display_data"
    }
   ],
   "source": [
    "# plot showing training and validation accuracy\n",
    "\n",
    "plt.plot(epochs, train_accuracy, 'g', label='Training Accuracy')\n",
    "plt.plot(epochs, val_accuracy, 'b', label='Validation Accuracy')\n",
    "\n",
    "plt.title('Training and Validation Accuracy')\n",
    "plt.xlabel('Epochs')\n",
    "plt.ylabel('Accuracy')\n",
    "\n",
    "plt.legend()\n",
    "plt.show()"
   ]
  },
  {
   "cell_type": "code",
   "execution_count": 101,
   "metadata": {},
   "outputs": [
    {
     "name": "stdout",
     "output_type": "stream",
     "text": [
      "86557/86557 [==============================] - 39s 450us/step\n"
     ]
    },
    {
     "data": {
      "text/plain": [
       "[0.17561808823957303, 0.931328488741523]"
      ]
     },
     "execution_count": 101,
     "metadata": {},
     "output_type": "execute_result"
    }
   ],
   "source": [
    "# evaluating the model on test dataset\n",
    "model_pretrained_glove.evaluate(x_test, y_test)"
   ]
  },
  {
   "cell_type": "markdown",
   "metadata": {},
   "source": [
    "## Test accuracy - 93.13 %"
   ]
  },
  {
   "cell_type": "code",
   "execution_count": 103,
   "metadata": {},
   "outputs": [
    {
     "name": "stdout",
     "output_type": "stream",
     "text": [
      "The taste of the biscuits was quite spectacular. It seemed as if it was taken straight from heaven 1. Positive with 99.85% surity\n",
      "Peanuts were too salty according to my taste 2. Negative with 62.44% surity\n",
      "If you are looking for a secret ingredient, go for it 3. Positive with 73.48% surity\n",
      "I am disappointed with the rice 4. Negative with 98.82% surity\n",
      "I am not disappointed with the rice 5. Negative with 76.31% surity\n",
      "I'm not really a tea drinker but my husband is and he loves this tea. So on his behalf I'm recommending it. Just go on with my hubby's recommendation. 6. Positive with 99.51% surity\n"
     ]
    }
   ],
   "source": [
    "# custom test samples\n",
    "\n",
    "samples = [\n",
    "           \"The taste of the biscuits was quite spectacular. It seemed as if it was taken straight from heaven\",\n",
    "           \"Peanuts were too salty according to my taste\",\n",
    "            \"If you are looking for a secret ingredient, go for it\",\n",
    "            \"I am disappointed with the rice\",\n",
    "            \"I am not disappointed with the rice\",\n",
    "            \"I'm not really a tea drinker but my husband is and he loves this tea. So on his behalf I'm recommending it. Just go on with my hubby's recommendation.\"\n",
    "          ]\n",
    "\n",
    "processed_samples = []\n",
    "for sample in samples:\n",
    "    processed_samples.append(preprocess_text(sample))\n",
    "\n",
    "vectorized_samples = tokenizer.texts_to_sequences(processed_samples)\n",
    "vectorized_samples = pad_sequences(vectorized_samples, maxlen=MAX_SEQUENCE_LENGTH, padding='post')\n",
    "\n",
    "predictions = model_pretrained_glove.predict(vectorized_samples)\n",
    "\n",
    "THRESHOLD_PREDICTION = 0.6\n",
    "\n",
    "for idx, pred in enumerate(predictions):\n",
    "    if(pred > THRESHOLD_PREDICTION):\n",
    "        print(samples[idx], \"{}. Positive with {:.2f}% surity\".format(idx+1, pred[0]*100))\n",
    "    else:\n",
    "        print(samples[idx], \"{}. Negative with {:.2f}% surity\".format(idx+1, 100-pred[0]*100))\n"
   ]
  },
  {
   "cell_type": "markdown",
   "metadata": {},
   "source": [
    "The 2nd example is **rightly** classified as compared to the previous model.\n",
    "\n",
    "The 4th example is also **rightly** classified. The 5th example is different from 4th one just because it has an extra \"not\" in it and it is **incorrectly** classified \n",
    "\n",
    "The averaging model computed above was considering \"not\" to be a negative word and was increasing the polarity of sentence in the favor of negative just by seeing the word \"not\" and not considering anything else.\n",
    "\n",
    "But in this model, although 5th example has wrong label, the introduction of word \"not\" is not making sentence more negatively polar as in case of earlier model. In fact, it is making sentence \"**less negative**\" (98.82 -> 76.31). \n",
    "\n",
    "This means the model understands that the word \"not\" is not a negative word. Its polarity depends on the context it is present in. Just like \"not disappointed\" is less negative than \"disappointed\", polarity-wise.\n",
    "\n",
    "Regarding the wrong classification of 5th example, it might or might not be the reason that the training was done for just 10 epochs although the accuracy was increasing with each epoch and does not seem to be saturated at all. Training for more epochs might have resulted in increased accuracy and consequently the correct classification.\n",
    "\n",
    "However, the major point is that the model learnt to understand the context of words instead of just assigning polarities to them. The model learnt that the polarity of word depends on the context it is employed in."
   ]
  },
  {
   "cell_type": "code",
   "execution_count": 104,
   "metadata": {},
   "outputs": [],
   "source": [
    "# saving the pre-trained glove model\n",
    "model_pretrained_glove.save(\"pretrained_glove_model.h5\")"
   ]
  }
 ],
 "metadata": {
  "kernelspec": {
   "display_name": "Python 3 (ipykernel)",
   "language": "python",
   "name": "python3"
  },
  "language_info": {
   "codemirror_mode": {
    "name": "ipython",
    "version": 3
   },
   "file_extension": ".py",
   "mimetype": "text/x-python",
   "name": "python",
   "nbconvert_exporter": "python",
   "pygments_lexer": "ipython3",
   "version": "3.12.4"
  }
 },
 "nbformat": 4,
 "nbformat_minor": 4
}
